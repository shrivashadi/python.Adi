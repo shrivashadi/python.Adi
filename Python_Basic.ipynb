{
  "nbformat": 4,
  "nbformat_minor": 0,
  "metadata": {
    "colab": {
      "provenance": []
    },
    "kernelspec": {
      "name": "python3",
      "display_name": "Python 3"
    },
    "language_info": {
      "name": "python"
    }
  },
  "cells": [
    {
      "cell_type": "markdown",
      "source": [
        "# Python Basic"
      ],
      "metadata": {
        "id": "xsPUlylnFyZ9"
      }
    },
    {
      "cell_type": "markdown",
      "source": [
        "##TQ-1:- What is Python, and why is it popular?\n",
        "         -Python is a high-level, interpreted programming language known for its simplicity and readability. It was created by Guido van Rossum and first released in 1991.\n",
        "\n",
        "Python is popular because:\n",
        "\n",
        "It has a simple and easy-to-understand syntax.\n",
        "\n",
        "It supports multiple programming paradigms like procedural, object-oriented, and functional programming.\n",
        "\n",
        "It has a large standard library and a strong community.\n",
        "\n",
        "It is used in many fields like web development, data science, artificial intelligence, automation, and more.\n",
        "\n",
        "It is beginner-friendly, making it a great choice for new programmers.**bold text**"
      ],
      "metadata": {
        "id": "maNg-SQbGH-J"
      }
    },
    {
      "cell_type": "markdown",
      "source": [
        "##TQ2-: 2. What is an interpreter in Python?\n",
        "        -  An interpreter in Python is a program that reads and executes Python code line by line. Instead of converting the entire code into machine language at once (like a compiler), the interpreter processes each line one at a time.\n",
        "        Python uses an interpreter to run programs, which makes debugging easier and allows faster testing during development."
      ],
      "metadata": {
        "id": "9MbPY9yhLfDM"
      }
    },
    {
      "cell_type": "markdown",
      "source": [
        "# TQ3:- What are pre-defined keywords in Python?\n",
        "        -Pre-defined keywords in Python are reserved words that have special meaning in the language. These keywords are part of the Python syntax and cannot be used as variable names, function names, or identifiers.\n",
        "\n",
        "They are used to define the structure and flow of a Python program.\n",
        "\n",
        "Examples of Python keywords:-if, else, elif, for, while, break, continue, def, return, import, class, True, False, None\n",
        "\n",
        "      \n",
        "     "
      ],
      "metadata": {
        "id": "Em2MVc7hN11j"
      }
    },
    {
      "cell_type": "markdown",
      "source": [
        "# TQ4:-Can keywords be used as variable names?\n",
        "       -No, keywords cannot be used as variable names in Python.\n",
        "\n",
        "This is because keywords have special meanings in the language and are used to define the syntax and structure of Python code. Using them as variable names will cause a syntax error.\n",
        "\n",
        "Example (Invalid):- number = 5  # ✅ \"number\" is a valid variable name\n"
      ],
      "metadata": {
        "id": "hsDBiW7lO55J"
      }
    },
    {
      "cell_type": "markdown",
      "source": [
        "# TQ5:- What are identifiers in Python?\n",
        "        - Identifiers are the names used to identify variables, functions, classes, modules, and other objects in Python.\n",
        "\n",
        "They are created by the programmer and must follow certain rules:\n",
        "\n",
        "Must start with a letter (A–Z or a–z) or an underscore _\n",
        "\n",
        "Can be followed by letters, digits (0–9), or underscores\n",
        "\n",
        "Cannot use Python keywords as identifiers\n",
        "\n",
        "Are case-sensitive (Name, name, and NAME are different)\n",
        "\n",
        "Examples of valid identifiers:- name, _age, student1, total_marks\n",
        "\n",
        "Examples of invalid identifiers:- 1name     # starts with a digit\n",
        "class     # keyword\n",
        "total-marks  # contains a hyphen\n"
      ],
      "metadata": {
        "id": "HKy_yYanPh5a"
      }
    },
    {
      "cell_type": "markdown",
      "source": [
        "# TQ6:- Why are lists mutable, but tuples are immutable?\n",
        "      - Lists are mutable because they are designed to allow modification after creation. You can:\n",
        "\n",
        "Add elements (append, extend)\n",
        "\n",
        "Remove elements (remove, pop)\n",
        "\n",
        "Change elements (list[0] = new_value)\n",
        "\n",
        "Tuples are immutable because they are meant to be fixed collections of items. Once created:\n",
        "\n",
        "You cannot change, add, or remove elements.\n",
        "\n",
        "This makes them faster and safer (used in keys for dictionaries, etc.)"
      ],
      "metadata": {
        "id": "ZDrwZp8uQDT5"
      }
    },
    {
      "cell_type": "code",
      "execution_count": 5,
      "metadata": {
        "id": "YW5uPo1aFBJc"
      },
      "outputs": [],
      "source": [
        "#Example:\n",
        "my_list = [1, 2, 3]\n",
        "my_list[0] = 100      # ✅ This works (mutable)\n",
        "\n",
        "my_tuple = (1, 2, 3)\n",
        "# my_tuple[0] = 100    ❌ This gives error (immutable)\n"
      ]
    },
    {
      "cell_type": "markdown",
      "source": [
        "#TQ7:-  What is the difference between == and is operators in Python?\n",
        "        ➤ == Operator:\n",
        "\n",
        "Compares values of two objects.\n",
        "\n",
        "Returns True if the data inside the objects is the same, even if they are different objects in memory.\n",
        "\n",
        "➤ is Operator:\n",
        "\n",
        "Compares the identity (memory location) of two objects.\n",
        "\n",
        "Returns True only if both variables refer to the exact same object in memory.\n",
        "\n"
      ],
      "metadata": {
        "id": "6cSstXkZF7K8"
      }
    },
    {
      "cell_type": "code",
      "source": [
        "#Example\n",
        "a = [1, 2, 3]\n",
        "b = [1, 2, 3]\n",
        "\n",
        "print(a == b)  # ✅ True → values are the same\n",
        "print(a is b)  # ❌ False → different objects in memory\n"
      ],
      "metadata": {
        "colab": {
          "base_uri": "https://localhost:8080/"
        },
        "id": "iF7VkyX9G7yL",
        "outputId": "d1104d30-c40d-415c-94cc-8257659bb7eb"
      },
      "execution_count": 6,
      "outputs": [
        {
          "output_type": "stream",
          "name": "stdout",
          "text": [
            "True\n",
            "False\n"
          ]
        }
      ]
    },
    {
      "cell_type": "markdown",
      "source": [
        "# TQ8:- What are logical operators in Python?\n",
        "       Logical operators are used to combine multiple conditions or boolean expressions. They return True or False based on logic.\n",
        "\n",
        "   Python has 3 main logical operators:\n",
        "   | Operator | Meaning                          | Example                      |\n",
        "| -------- | -------------------------------- | ---------------------------- |\n",
        "| `and`    | True if **both** are true        | `(5 > 2 and 3 < 4)` → `True` |\n",
        "| `or`     | True if **at least one** is true | `(5 > 10 or 3 < 4)` → `True` |\n",
        "| `not`    | Reverses the condition           | `not (5 > 2)` → `False`      |\n",
        "\n",
        "    "
      ],
      "metadata": {
        "id": "OROfzfANHD7E"
      }
    },
    {
      "cell_type": "code",
      "source": [
        "#Example\n",
        "a = 10\n",
        "b = 5\n",
        "\n",
        "print(a > 5 and b < 10)   # True (both conditions are true)\n",
        "print(a < 5 or b < 10)    # True (second condition is true)\n",
        "print(not (a > b))        # False (because a > b is True, not makes it False)\n"
      ],
      "metadata": {
        "colab": {
          "base_uri": "https://localhost:8080/"
        },
        "id": "vsJi7NooHd97",
        "outputId": "d27c9c6c-c5f5-4a1a-b7cf-5b5d52aa9995"
      },
      "execution_count": 7,
      "outputs": [
        {
          "output_type": "stream",
          "name": "stdout",
          "text": [
            "True\n",
            "True\n",
            "False\n"
          ]
        }
      ]
    },
    {
      "cell_type": "markdown",
      "source": [
        "#TQ9:- What is type casting in Python?\n",
        "       - Type casting means converting one data type into another.\n",
        "Python provides built-in functions to perform type conversions.\n",
        "\n",
        "🔹 Types of Type Casting:\n",
        "1-Implicit Type Casting (automatic by Python)\n",
        "\n",
        "1-Explicit Type Casting (manual by the programmer)"
      ],
      "metadata": {
        "id": "V01LXA1QHh3n"
      }
    },
    {
      "cell_type": "code",
      "source": [
        "#ample of Explicit Type Casting:\n",
        "a = \"123\"\n",
        "b = int(a)      # '123' (string) → 123 (integer)\n",
        "print(b + 1)    # Output: 124\n",
        "\n",
        "#Example of Implicit Type Casting:\n",
        "x = 10\n",
        "y = 2.5\n",
        "z = x + y       # x (int) is automatically converted to float\n",
        "print(z)        # Output: 12.5\n"
      ],
      "metadata": {
        "colab": {
          "base_uri": "https://localhost:8080/"
        },
        "id": "05JkRTmaH-32",
        "outputId": "bee960b8-d1ec-40a8-d4ab-60c8560cd8a1"
      },
      "execution_count": 8,
      "outputs": [
        {
          "output_type": "stream",
          "name": "stdout",
          "text": [
            "124\n",
            "12.5\n"
          ]
        }
      ]
    },
    {
      "cell_type": "markdown",
      "source": [
        "#TQ10:- What is the difference between implicit and explicit type casting?\n",
        "        - Implicit Type Casting:\n",
        "Automatically done by Python interpreter.\n",
        "\n",
        "Happens when combining different data types.\n",
        "\n",
        "No data loss or programmer control needed\n",
        "\n",
        " Explicit Type Casting:-\n",
        "Done manually by the programmer.\n",
        "\n",
        "Converts one type to another using built-in functions.\n",
        "\n",
        "Can lead to data loss (e.g., float to int).\n",
        "       "
      ],
      "metadata": {
        "id": "qzSjZMF_IMhc"
      }
    },
    {
      "cell_type": "code",
      "source": [
        "#Example\n",
        "a = \"100\"\n",
        "b = int(a)    # string to int\n",
        "print(b + 1)  # Output: 101\n"
      ],
      "metadata": {
        "id": "TTrZPs08JBKd"
      },
      "execution_count": null,
      "outputs": []
    },
    {
      "cell_type": "markdown",
      "source": [
        "#TQ11:- What is the purpose of conditional statements in Python?\n",
        "       - Conditional statements are used to make decisions in a Python program.\n",
        "They allow the program to execute certain blocks of code only when specific conditions are met.\n",
        "\n",
        " Main Conditional Statements:\n",
        "if – checks a condition and executes the block if it is True.\n",
        "\n",
        "elif – checks other conditions if the previous if was False.\n",
        "\n",
        "else – runs when none of the above conditions are True."
      ],
      "metadata": {
        "id": "f6Z03C6LJKKw"
      }
    },
    {
      "cell_type": "code",
      "source": [
        "#Example\n",
        "age = 18\n",
        "\n",
        "if age >= 18:\n",
        "    print(\"You are eligible to vote.\")\n",
        "else:\n",
        "    print(\"You are not eligible.\")\n"
      ],
      "metadata": {
        "colab": {
          "base_uri": "https://localhost:8080/"
        },
        "id": "Igfa7QwwJcE8",
        "outputId": "43a1b409-6236-4954-d6ac-ca2a5e2e7242"
      },
      "execution_count": 9,
      "outputs": [
        {
          "output_type": "stream",
          "name": "stdout",
          "text": [
            "You are eligible to vote.\n"
          ]
        }
      ]
    },
    {
      "cell_type": "markdown",
      "source": [
        "# TQ12:-  How does the elif statement work?\n",
        "          - It is used when you want to check multiple conditions one after another.\n",
        "\n",
        " Working of elif:\n",
        "Python checks conditions from top to bottom.\n",
        "\n",
        "The first condition that is True is executed.\n",
        "\n",
        "Once a condition is matched, the rest are skipped."
      ],
      "metadata": {
        "id": "Wfd9USuCJKJr"
      }
    },
    {
      "cell_type": "code",
      "source": [
        "#Example\n",
        "marks = 75\n",
        "\n",
        "if marks >= 90:\n",
        "    print(\"Grade: A\")\n",
        "elif marks >= 75:\n",
        "    print(\"Grade: B\")\n",
        "elif marks >= 60:\n",
        "    print(\"Grade: C\")\n",
        "else:\n",
        "    print(\"Grade: D\")\n"
      ],
      "metadata": {
        "colab": {
          "base_uri": "https://localhost:8080/"
        },
        "id": "zYg87BedJ_xJ",
        "outputId": "514ea528-6b97-482f-ab1b-8c126b794bf2"
      },
      "execution_count": 10,
      "outputs": [
        {
          "output_type": "stream",
          "name": "stdout",
          "text": [
            "Grade: B\n"
          ]
        }
      ]
    },
    {
      "cell_type": "markdown",
      "source": [
        "# TQ13:- What is the difference between for and while loops?\n",
        "        - for Loop:\n",
        "Used when you know in advance how many times you want to repeat a block.\n",
        "\n",
        "Works well with sequences like lists, strings, ranges, etc.\n",
        "\n",
        "Example:"
      ],
      "metadata": {
        "id": "uoVazwEAKE_e"
      }
    },
    {
      "cell_type": "code",
      "source": [
        "#Example\n",
        "for i in range(5):\n",
        "    print(i)\n"
      ],
      "metadata": {
        "colab": {
          "base_uri": "https://localhost:8080/"
        },
        "id": "kogwQb7XKfCT",
        "outputId": "b3531346-4e0f-4518-a51e-ba7ceffab17d"
      },
      "execution_count": 11,
      "outputs": [
        {
          "output_type": "stream",
          "name": "stdout",
          "text": [
            "0\n",
            "1\n",
            "2\n",
            "3\n",
            "4\n"
          ]
        }
      ]
    },
    {
      "cell_type": "markdown",
      "source": [
        "#TQ14:- Describe a scenario where a while loop is more suitable than a for loop?\n",
        "      - cenario: Taking input until user enters a specific value\n",
        "Imagine you want to keep asking a user for a password until they type the correct one.\n",
        "You don't know how many times the user will try — so a while loop is perfect.\n",
        "\n",
        "Why not for loop?\n",
        "Because you don't know how many attempts the user will take — it depends on the condition, not a fixed count.\n",
        " Real-World Use Cases of while Loop:\n",
        "Login systems\n",
        "\n",
        "Game loops\n",
        "\n",
        "Waiting for sensor/device signal\n",
        "\n",
        "Repeating until valid input is given\n"
      ],
      "metadata": {
        "id": "LpythB8GKkO8"
      }
    },
    {
      "cell_type": "code",
      "source": [
        "#Example\n",
        "password = \"\"\n",
        "\n",
        "while password != \"open123\":\n",
        "    password = input(\"Enter password: \")\n",
        "\n",
        "print(\"Access granted.\")\n"
      ],
      "metadata": {
        "colab": {
          "base_uri": "https://localhost:8080/"
        },
        "id": "2HIsuUv4K-JM",
        "outputId": "d700f06e-cd18-45a4-e0c4-584f533216f0"
      },
      "execution_count": 12,
      "outputs": [
        {
          "output_type": "stream",
          "name": "stdout",
          "text": [
            "Enter password: \"\"\n",
            "Enter password: \"open123\"\n",
            "Enter password: Enter password\n",
            "Enter password: open123\n",
            "Access granted.\n"
          ]
        }
      ]
    },
    {
      "cell_type": "markdown",
      "source": [
        "# Python Basics Practical-"
      ],
      "metadata": {
        "id": "nOMs7ZLlLUW8"
      }
    },
    {
      "cell_type": "markdown",
      "source": [
        "# PQ1:- Write a Python program to print “Hello, World!”"
      ],
      "metadata": {
        "id": "h7ef9l4hNNec"
      }
    },
    {
      "cell_type": "code",
      "source": [
        "# PQ1: Print \"Hello, World!\"\n",
        "print(\"Hello, World!\")\n"
      ],
      "metadata": {
        "colab": {
          "base_uri": "https://localhost:8080/"
        },
        "id": "J1uughH1Nh9j",
        "outputId": "02800629-6057-4a59-9d72-6f947a1b78df"
      },
      "execution_count": 13,
      "outputs": [
        {
          "output_type": "stream",
          "name": "stdout",
          "text": [
            "Hello, World!\n"
          ]
        }
      ]
    },
    {
      "cell_type": "markdown",
      "source": [
        "#PQ2:- Write a Python program that displays your name and age."
      ],
      "metadata": {
        "id": "DMDC1UNSNrxF"
      }
    },
    {
      "cell_type": "code",
      "source": [
        "# PQ2: Display your name and age\n",
        "name = \"Aditya Sen\"\n",
        "age = 22\n",
        "\n",
        "print(\"Name:\", name)\n",
        "print(\"Age:\", age)\n"
      ],
      "metadata": {
        "colab": {
          "base_uri": "https://localhost:8080/"
        },
        "id": "Y0myqICMN6L_",
        "outputId": "bf021ffa-4c47-47fa-ec84-25f6a3d421f0"
      },
      "execution_count": 14,
      "outputs": [
        {
          "output_type": "stream",
          "name": "stdout",
          "text": [
            "Name: Aditya Sen\n",
            "Age: 22\n"
          ]
        }
      ]
    },
    {
      "cell_type": "markdown",
      "source": [
        "#PQ3:- rite code to print all the pre-defined keywords in Python using the keyword library."
      ],
      "metadata": {
        "id": "UP_59XS7N9L8"
      }
    },
    {
      "cell_type": "code",
      "source": [
        "# PQ3: Print all pre-defined keywords in Python\n",
        "import keyword\n",
        "\n",
        "print(\"Python Keywords:\")\n",
        "print(keyword.kwlist)\n"
      ],
      "metadata": {
        "colab": {
          "base_uri": "https://localhost:8080/"
        },
        "id": "TIbv9GvVOG20",
        "outputId": "a471c042-951f-4f96-cfa1-9797c8fb0fee"
      },
      "execution_count": 15,
      "outputs": [
        {
          "output_type": "stream",
          "name": "stdout",
          "text": [
            "Python Keywords:\n",
            "['False', 'None', 'True', 'and', 'as', 'assert', 'async', 'await', 'break', 'class', 'continue', 'def', 'del', 'elif', 'else', 'except', 'finally', 'for', 'from', 'global', 'if', 'import', 'in', 'is', 'lambda', 'nonlocal', 'not', 'or', 'pass', 'raise', 'return', 'try', 'while', 'with', 'yield']\n"
          ]
        }
      ]
    },
    {
      "cell_type": "markdown",
      "source": [
        "#PQ4:- Write a program that checks if a given word is a Python keyword."
      ],
      "metadata": {
        "id": "9h52UT1xOPZF"
      }
    },
    {
      "cell_type": "code",
      "source": [
        "# PQ4: Check if a word is a Python keyword\n",
        "import keyword\n",
        "\n",
        "word = input(\"Enter a word to check: \")\n",
        "\n",
        "if keyword.iskeyword(word):\n",
        "    print(f\"'{word}' is a Python keyword.\")\n",
        "else:\n",
        "    print(f\"'{word}' is NOT a Python keyword.\")\n"
      ],
      "metadata": {
        "id": "JDQBhXRvOUK0"
      },
      "execution_count": null,
      "outputs": []
    },
    {
      "cell_type": "markdown",
      "source": [
        "#PQ5:- Create a list and tuple in Python, and demonstrate how attempting to change an element works differently for each.\n",
        "\n"
      ],
      "metadata": {
        "id": "OoMrmvP6OX52"
      }
    },
    {
      "cell_type": "code",
      "source": [
        "# PQ5: List (mutable) and Tuple (immutable) example\n",
        "\n",
        "# Creating a list and a tuple\n",
        "my_list = [10, 20, 30]\n",
        "my_tuple = (10, 20, 30)\n",
        "\n",
        "# Modifying the list\n",
        "print(\"Original list:\", my_list)\n",
        "my_list[0] = 100\n",
        "print(\"Modified list:\", my_list)\n",
        "\n",
        "# Attempting to modify the tuple\n",
        "print(\"Original tuple:\", my_tuple)\n",
        "try:\n",
        "    my_tuple[0] = 100  # This will raise an error\n",
        "except TypeError as e:\n",
        "    print(\"Error:\", e)\n"
      ],
      "metadata": {
        "colab": {
          "base_uri": "https://localhost:8080/"
        },
        "id": "bpaf096gOhm7",
        "outputId": "82e4da22-0643-49e3-9334-43b2ebf4937a"
      },
      "execution_count": 16,
      "outputs": [
        {
          "output_type": "stream",
          "name": "stdout",
          "text": [
            "Original list: [10, 20, 30]\n",
            "Modified list: [100, 20, 30]\n",
            "Original tuple: (10, 20, 30)\n",
            "Error: 'tuple' object does not support item assignment\n"
          ]
        }
      ]
    },
    {
      "cell_type": "markdown",
      "source": [
        "#PQ6:- Write a function to demonstrate the behavior of mutable and immutable arguments."
      ],
      "metadata": {
        "id": "cY9knPZUOks5"
      }
    },
    {
      "cell_type": "code",
      "source": [
        "# PQ6: Mutable vs Immutable function behavior\n",
        "\n",
        "# Function to modify mutable (list)\n",
        "def modify_list(mylist):\n",
        "    mylist.append(100)\n",
        "    print(\"Inside function (list):\", mylist)\n",
        "\n",
        "# Function to modify immutable (integer)\n",
        "def modify_integer(num):\n",
        "    num += 10\n",
        "    print(\"Inside function (int):\", num)\n",
        "\n",
        "# Main program\n",
        "my_list = [1, 2, 3]\n",
        "my_num = 5\n",
        "\n",
        "modify_list(my_list)\n",
        "print(\"Outside function (list):\", my_list)   # List is modified\n",
        "\n",
        "modify_integer(my_num)\n",
        "print(\"Outside function (int):\", my_num)     # Integer remains same\n"
      ],
      "metadata": {
        "colab": {
          "base_uri": "https://localhost:8080/"
        },
        "id": "MorJi5JjOr09",
        "outputId": "d1efa0af-8208-48bc-da19-040e83bb63ba"
      },
      "execution_count": 17,
      "outputs": [
        {
          "output_type": "stream",
          "name": "stdout",
          "text": [
            "Inside function (list): [1, 2, 3, 100]\n",
            "Outside function (list): [1, 2, 3, 100]\n",
            "Inside function (int): 15\n",
            "Outside function (int): 5\n"
          ]
        }
      ]
    },
    {
      "cell_type": "markdown",
      "source": [
        "#PQ7:- Write a program that performs basic arithmetic operations on two user-input numbers."
      ],
      "metadata": {
        "id": "6XwPPn_9OuaM"
      }
    },
    {
      "cell_type": "code",
      "source": [
        "# PQ7: Basic arithmetic operations\n",
        "\n",
        "# Taking input from the user\n",
        "num1 = float(input(\"Enter first number: \"))\n",
        "num2 = float(input(\"Enter second number: \"))\n",
        "\n",
        "# Performing operations\n",
        "print(\"Addition:\", num1 + num2)\n",
        "print(\"Subtraction:\", num1 - num2)\n",
        "print(\"Multiplication:\", num1 * num2)\n",
        "\n",
        "# Handling division by zero\n",
        "if num2 != 0:\n",
        "    print(\"Division:\", num1 / num2)\n",
        "else:\n",
        "    print(\"Division: Cannot divide by zero\")\n"
      ],
      "metadata": {
        "colab": {
          "base_uri": "https://localhost:8080/"
        },
        "id": "IL9VpqvZO4tb",
        "outputId": "c043bbfd-d6b1-4ffe-e3f0-3b8147205324"
      },
      "execution_count": 18,
      "outputs": [
        {
          "output_type": "stream",
          "name": "stdout",
          "text": [
            "Enter first number: 5\n",
            "Enter second number: 6\n",
            "Addition: 11.0\n",
            "Subtraction: -1.0\n",
            "Multiplication: 30.0\n",
            "Division: 0.8333333333333334\n"
          ]
        }
      ]
    },
    {
      "cell_type": "markdown",
      "source": [
        "#PQ8:- Write a program to demonstrate the use of logical operators."
      ],
      "metadata": {
        "id": "zax8Ge_5Okq3"
      }
    },
    {
      "cell_type": "code",
      "source": [
        "# PQ8: Logical operators demo\n",
        "\n",
        "# Taking two numbers from user\n",
        "a = int(input(\"Enter first number: \"))\n",
        "b = int(input(\"Enter second number: \"))\n",
        "\n",
        "# Logical operations\n",
        "print(\"Both numbers are greater than 0:\", a > 0 and b > 0)\n",
        "print(\"At least one number is even:\", a % 2 == 0 or b % 2 == 0)\n",
        "print(\"First number is NOT negative:\", not (a < 0))\n"
      ],
      "metadata": {
        "colab": {
          "base_uri": "https://localhost:8080/"
        },
        "id": "1c62v43LPIbD",
        "outputId": "8e209d11-460f-48ed-e4ad-49b17a7a25bc"
      },
      "execution_count": 19,
      "outputs": [
        {
          "output_type": "stream",
          "name": "stdout",
          "text": [
            "Enter first number: 5\n",
            "Enter second number: 8\n",
            "Both numbers are greater than 0: True\n",
            "At least one number is even: True\n",
            "First number is NOT negative: True\n"
          ]
        }
      ]
    },
    {
      "cell_type": "markdown",
      "source": [
        "#PQ9:-  Write a Python program to convert user input into string, integer, float, and boolean types."
      ],
      "metadata": {
        "id": "FXMI3I8mPN3E"
      }
    },
    {
      "cell_type": "code",
      "source": [
        "# PQ9: Type conversion of user input\n",
        "\n",
        "user_input = input(\"Enter a value: \")\n",
        "\n",
        "# Type conversions\n",
        "as_string = str(user_input)\n",
        "as_integer = int(float(user_input))  # Handles numeric strings safely\n",
        "as_float = float(user_input)\n",
        "as_boolean = bool(user_input)\n",
        "\n",
        "# Display results\n",
        "print(\"As String:\", as_string)\n",
        "print(\"As Integer:\", as_integer)\n",
        "print(\"As Float:\", as_float)\n",
        "print(\"As Boolean:\", as_boolean)\n"
      ],
      "metadata": {
        "colab": {
          "base_uri": "https://localhost:8080/"
        },
        "id": "DH2LYpaLPV0d",
        "outputId": "c31ddd6b-d5da-4296-fc4e-8a8be92675ca"
      },
      "execution_count": 20,
      "outputs": [
        {
          "output_type": "stream",
          "name": "stdout",
          "text": [
            "Enter a value: 5\n",
            "As String: 5\n",
            "As Integer: 5\n",
            "As Float: 5.0\n",
            "As Boolean: True\n"
          ]
        }
      ]
    },
    {
      "cell_type": "markdown",
      "source": [
        "#PQ10:- Write a program that demonstrates type casting with examples."
      ],
      "metadata": {
        "id": "AK9p9uSjPb6r"
      }
    },
    {
      "cell_type": "code",
      "source": [
        "# PQ10: Type casting demonstration\n",
        "\n",
        "# Original values\n",
        "int_val = 10\n",
        "float_val = 5.6\n",
        "str_val = \"123\"\n",
        "\n",
        "# Casting int to float\n",
        "print(\"int to float:\", float(int_val))\n",
        "\n",
        "# Casting float to int\n",
        "print(\"float to int:\", int(float_val))\n",
        "\n",
        "# Casting string to int\n",
        "print(\"string to int:\", int(str_val))\n",
        "\n",
        "# Casting int to string\n",
        "print(\"int to string:\", str(int_val))\n",
        "\n",
        "# Casting non-empty string to boolean\n",
        "print(\"non-empty string to bool:\", bool(str_val))\n",
        "\n",
        "# Casting 0 to boolean\n",
        "print(\"0 to bool:\", bool(0))\n"
      ],
      "metadata": {
        "colab": {
          "base_uri": "https://localhost:8080/"
        },
        "id": "oOgM5w9gPnP2",
        "outputId": "a34fa4a8-11fc-4210-ba7e-e72764b8258c"
      },
      "execution_count": 21,
      "outputs": [
        {
          "output_type": "stream",
          "name": "stdout",
          "text": [
            "int to float: 10.0\n",
            "float to int: 5\n",
            "string to int: 123\n",
            "int to string: 10\n",
            "non-empty string to bool: True\n",
            "0 to bool: False\n"
          ]
        }
      ]
    },
    {
      "cell_type": "markdown",
      "source": [
        "#PQ11:- Write a Python program that uses conditional statements."
      ],
      "metadata": {
        "id": "oMwAFRdrPqP1"
      }
    },
    {
      "cell_type": "code",
      "source": [
        "# PQ11: Conditional statement example\n",
        "\n",
        "age = int(input(\"Enter your age: \"))\n",
        "\n",
        "if age >= 18:\n",
        "    print(\"You are eligible to vote.\")\n",
        "elif age > 0:\n",
        "    print(\"You are not eligible to vote.\")\n",
        "else:\n",
        "    print(\"Invalid age entered.\")\n"
      ],
      "metadata": {
        "colab": {
          "base_uri": "https://localhost:8080/"
        },
        "id": "SgNU81UVP0GD",
        "outputId": "3331403f-aa25-4411-90b1-64c65fb10849"
      },
      "execution_count": 22,
      "outputs": [
        {
          "output_type": "stream",
          "name": "stdout",
          "text": [
            "Enter your age: 21\n",
            "You are eligible to vote.\n"
          ]
        }
      ]
    },
    {
      "cell_type": "markdown",
      "source": [
        "#PQ12:- rite a loop to print numbers from 1 to 10.\n",
        "\n"
      ],
      "metadata": {
        "id": "YXQWeeBbP6Il"
      }
    },
    {
      "cell_type": "code",
      "source": [
        "# PQ12: Print numbers from 1 to 10 using a loop\n",
        "\n",
        "for i in range(1, 11):\n",
        "    print(i)\n"
      ],
      "metadata": {
        "colab": {
          "base_uri": "https://localhost:8080/"
        },
        "id": "kBY3RQVFQEdV",
        "outputId": "ef039254-50c3-4f71-d4fe-3e19cace2721"
      },
      "execution_count": 23,
      "outputs": [
        {
          "output_type": "stream",
          "name": "stdout",
          "text": [
            "1\n",
            "2\n",
            "3\n",
            "4\n",
            "5\n",
            "6\n",
            "7\n",
            "8\n",
            "9\n",
            "10\n"
          ]
        }
      ]
    },
    {
      "cell_type": "markdown",
      "source": [
        "#PQ13:- Write a Python program to find the sum of all even numbers between 1 and 50."
      ],
      "metadata": {
        "id": "M_-h9LcSQMBm"
      }
    },
    {
      "cell_type": "code",
      "source": [
        "# PQ13: Sum of even numbers from 1 to 50\n",
        "\n",
        "even_sum = 0\n",
        "\n",
        "for i in range(1, 51):\n",
        "    if i % 2 == 0:\n",
        "        even_sum += i\n",
        "\n",
        "print(\"Sum of even numbers from 1 to 50 is:\", even_sum)\n"
      ],
      "metadata": {
        "colab": {
          "base_uri": "https://localhost:8080/"
        },
        "id": "BPhtwu0mQYF8",
        "outputId": "7c57f041-1cc9-4c99-b238-17c3907e0d40"
      },
      "execution_count": 24,
      "outputs": [
        {
          "output_type": "stream",
          "name": "stdout",
          "text": [
            "Sum of even numbers from 1 to 50 is: 650\n"
          ]
        }
      ]
    },
    {
      "cell_type": "markdown",
      "source": [
        "#PQ14:- Write a Python program to calculate the factorial of a number provided by the user using a while loop."
      ],
      "metadata": {
        "id": "M-cxW2dNQbDE"
      }
    },
    {
      "cell_type": "code",
      "source": [
        "# PQ14: Factorial using while loop\n",
        "\n",
        "num = int(input(\"Enter a number: \"))\n",
        "factorial = 1\n",
        "i = 1\n",
        "\n",
        "if num < 0:\n",
        "    print(\"Factorial is not defined for negative numbers.\")\n",
        "else:\n",
        "    while i <= num:\n",
        "        factorial *= i\n",
        "        i += 1\n",
        "    print(f\"The factorial of {num} is: {factorial}\")\n"
      ],
      "metadata": {
        "colab": {
          "base_uri": "https://localhost:8080/"
        },
        "id": "8WVPn_AoQjJj",
        "outputId": "8da87b0f-3a03-49d5-e33d-e15af032430b"
      },
      "execution_count": 25,
      "outputs": [
        {
          "output_type": "stream",
          "name": "stdout",
          "text": [
            "Enter a number: 15\n",
            "The factorial of 15 is: 1307674368000\n"
          ]
        }
      ]
    }
  ]
}