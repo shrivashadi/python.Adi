{
  "nbformat": 4,
  "nbformat_minor": 0,
  "metadata": {
    "colab": {
      "provenance": []
    },
    "kernelspec": {
      "name": "python3",
      "display_name": "Python 3"
    },
    "language_info": {
      "name": "python"
    }
  },
  "cells": [
    {
      "cell_type": "markdown",
      "source": [
        "# Question-: 1"
      ],
      "metadata": {
        "id": "eGPFsEMe8sVQ"
      }
    },
    {
      "cell_type": "markdown",
      "source": [
        "Q1. What is the difference between a function and a method in Python?\n",
        "👉 A function is a block of reusable code that is independent and can be defined using the def keyword.\n",
        "👉 A method is a function associated with an object—it is called on an object and often works with the data within that object (especially in classes).\n",
        "\n",
        "| Feature       | Function                          | Method                                   |\n",
        "| ------------- | --------------------------------- | ---------------------------------------- |\n",
        "| Definition    | Defined independently using `def` | Defined inside a class                   |\n",
        "| Called on     | Can be called directly            | Called on an object (e.g., string, list) |\n",
        "| Uses `self`?  | No                                | Yes (for instance methods)               |\n",
        "| Example usage | `print(sum([1, 2, 3]))`           | `\"hello\".upper()`                        |\n"
      ],
      "metadata": {
        "id": "y1oIBEJDxwfi"
      }
    },
    {
      "cell_type": "code",
      "source": [
        "def add(a, b):\n",
        "    return a + b\n",
        "\n",
        "print(add(10, 5))\n"
      ],
      "metadata": {
        "colab": {
          "base_uri": "https://localhost:8080/"
        },
        "id": "rmD4XhyJ0IJS",
        "outputId": "6f948b5e-ced3-4547-d27d-a839c64b43da"
      },
      "execution_count": null,
      "outputs": [
        {
          "output_type": "stream",
          "name": "stdout",
          "text": [
            "15\n"
          ]
        }
      ]
    },
    {
      "cell_type": "code",
      "source": [
        "text = \"hello\"\n",
        "print(text.upper())  # Output: HELLO\n"
      ],
      "metadata": {
        "colab": {
          "base_uri": "https://localhost:8080/"
        },
        "id": "itfBT3CB0Rwq",
        "outputId": "17c4cb27-7d01-47b3-8387-6a36f161ed30"
      },
      "execution_count": null,
      "outputs": [
        {
          "output_type": "stream",
          "name": "stdout",
          "text": [
            "HELLO\n"
          ]
        }
      ]
    },
    {
      "cell_type": "markdown",
      "source": [
        "# Question-: 2"
      ],
      "metadata": {
        "id": "c-fKBBhH8mC3"
      }
    },
    {
      "cell_type": "markdown",
      "source": [
        "Q2. Explain the concept of function arguments and parameters in Python.\n",
        "\n",
        "🔹 In Python, parameters are the placeholders in the function definition.\n",
        "🔹 Arguments are the actual values passed to the function when it is called.\n",
        "\n",
        "🔸 Definitions:\n",
        "Parameter: The variable listed inside the parentheses in the function definition.\n",
        "\n",
        "Argument: The value that is sent to the function when it is called.\n"
      ],
      "metadata": {
        "id": "L4mL_4pp0aJY"
      }
    },
    {
      "cell_type": "code",
      "source": [
        "# Function definition\n",
        "def greet(name):  # 'name' is a parameter\n",
        "    print(\"Hello\", name)\n",
        "\n",
        "# Function call\n",
        "greet(\"Aditya\")  # \"Aditya\" is the argument\n"
      ],
      "metadata": {
        "colab": {
          "base_uri": "https://localhost:8080/"
        },
        "id": "-UWdz0pk1EsT",
        "outputId": "b1716496-afa4-4ccc-c745-b07699cab45a"
      },
      "execution_count": null,
      "outputs": [
        {
          "output_type": "stream",
          "name": "stdout",
          "text": [
            "Hello Aditya\n"
          ]
        }
      ]
    },
    {
      "cell_type": "markdown",
      "source": [
        "🔸 Types of Arguments in Python:\n",
        "Positional arguments – Based on order"
      ],
      "metadata": {
        "id": "sVU-AcpN1Lc7"
      }
    },
    {
      "cell_type": "code",
      "source": [
        "def add(a, b):\n",
        "    return a + b\n",
        "\n",
        "print(add(3, 4))  # 3 and 4 are positional arguments\n"
      ],
      "metadata": {
        "colab": {
          "base_uri": "https://localhost:8080/"
        },
        "id": "JcO3CNVH1Ndq",
        "outputId": "8526fdee-14b4-4944-828d-4f5e7a9ad475"
      },
      "execution_count": null,
      "outputs": [
        {
          "output_type": "stream",
          "name": "stdout",
          "text": [
            "7\n"
          ]
        }
      ]
    },
    {
      "cell_type": "markdown",
      "source": [
        "Keyword arguments – Specify parameter names"
      ],
      "metadata": {
        "id": "kuUE9yqT1W_h"
      }
    },
    {
      "cell_type": "code",
      "source": [],
      "metadata": {
        "id": "HJd-peId1YZK"
      },
      "execution_count": null,
      "outputs": []
    },
    {
      "cell_type": "code",
      "source": [
        "print(add(b=4, a=3))  # order doesn't matter\n"
      ],
      "metadata": {
        "colab": {
          "base_uri": "https://localhost:8080/"
        },
        "id": "RDzhRZ501bBJ",
        "outputId": "c8c99d83-bfaf-4a1f-91b5-55631c9dc697"
      },
      "execution_count": null,
      "outputs": [
        {
          "output_type": "stream",
          "name": "stdout",
          "text": [
            "7\n"
          ]
        }
      ]
    },
    {
      "cell_type": "markdown",
      "source": [
        "Default arguments – Provide default value"
      ],
      "metadata": {
        "id": "355Kvls01kS0"
      }
    },
    {
      "cell_type": "code",
      "source": [
        "def greet(name=\"User\"):\n",
        "    print(\"Hello\", name)\n",
        "\n",
        "greet()          # Output: Hello User\n",
        "greet(\"Aditya\")  # Output: Hello Aditya\n"
      ],
      "metadata": {
        "colab": {
          "base_uri": "https://localhost:8080/"
        },
        "id": "dnXN-3HT1nI7",
        "outputId": "d03bc5a3-0097-4a76-abbd-d1d130898228"
      },
      "execution_count": null,
      "outputs": [
        {
          "output_type": "stream",
          "name": "stdout",
          "text": [
            "Hello User\n",
            "Hello Aditya\n"
          ]
        }
      ]
    },
    {
      "cell_type": "markdown",
      "source": [
        "Variable-length arguments – Accept multiple inputs"
      ],
      "metadata": {
        "id": "nuAsn9fg1ptC"
      }
    },
    {
      "cell_type": "code",
      "source": [
        "def total(*numbers):\n",
        "    return sum(numbers)\n",
        "\n",
        "print(total(1, 2, 3, 4))  # Output: 10\n"
      ],
      "metadata": {
        "colab": {
          "base_uri": "https://localhost:8080/"
        },
        "id": "diz48g5O1xUy",
        "outputId": "136f8f2e-009f-4869-bc5d-9c73f70eb23d"
      },
      "execution_count": null,
      "outputs": [
        {
          "output_type": "stream",
          "name": "stdout",
          "text": [
            "10\n"
          ]
        }
      ]
    },
    {
      "cell_type": "markdown",
      "source": [
        "# Question-: 3"
      ],
      "metadata": {
        "id": "bybD5-Cv8cA5"
      }
    },
    {
      "cell_type": "markdown",
      "source": [
        "Q3. What are the different ways to define and call a function in Python?\n",
        "\n",
        "In Python, functions can be defined and called in multiple ways depending on how arguments are passed and how flexible the input is.\n",
        "\n",
        "🔹 Ways to define a function:\n",
        "Standard function definition\n",
        "\n",
        "Function with default arguments\n",
        "\n",
        "Function with variable-length positional arguments (*args)\n",
        "\n",
        "Function with variable-length keyword arguments (**kwargs)\n",
        "\n",
        "Lambda (anonymous) function\n",
        "\n",
        "🔹 Ways to call a function:\n",
        "Positional arguments\n",
        "\n",
        "Keyword arguments\n",
        "\n",
        "Using *args and **kwargs for unpacking\n",
        "\n",
        "✅ Examples:\n",
        "1. Standard Function"
      ],
      "metadata": {
        "id": "k4Ew3AlB5e0Y"
      }
    },
    {
      "cell_type": "code",
      "source": [
        "def greet(name):\n",
        "    print(\"Hello\", name)\n",
        "\n",
        "greet(\"Aditya\")  # Positional argument\n"
      ],
      "metadata": {
        "colab": {
          "base_uri": "https://localhost:8080/"
        },
        "id": "0UY2L61V5jLw",
        "outputId": "90629d7d-db84-4ae5-a972-01c5da20dd79"
      },
      "execution_count": null,
      "outputs": [
        {
          "output_type": "stream",
          "name": "stdout",
          "text": [
            "Hello Aditya\n"
          ]
        }
      ]
    },
    {
      "cell_type": "markdown",
      "source": [
        "2. Function with Default Argument\n"
      ],
      "metadata": {
        "id": "TnsZ3cb55oGY"
      }
    },
    {
      "cell_type": "code",
      "source": [
        "def greet(name=\"User\"):\n",
        "    print(\"Hello\", name)\n",
        "\n",
        "greet()             # Output: Hello User\n",
        "greet(\"Aditya\")     # Output: Hello Aditya\n"
      ],
      "metadata": {
        "colab": {
          "base_uri": "https://localhost:8080/"
        },
        "id": "GPTRlDAf5yLG",
        "outputId": "05e32881-31a7-49ba-fcb3-d7fcde4eedf5"
      },
      "execution_count": null,
      "outputs": [
        {
          "output_type": "stream",
          "name": "stdout",
          "text": [
            "Hello User\n",
            "Hello Aditya\n"
          ]
        }
      ]
    },
    {
      "cell_type": "markdown",
      "source": [
        "3. Function with *args (Multiple positional arguments)"
      ],
      "metadata": {
        "id": "zofrVFVZ6Blv"
      }
    },
    {
      "cell_type": "code",
      "source": [
        "def total(*numbers):\n",
        "    print(\"Sum is\", sum(numbers))\n",
        "\n",
        "total(10, 20, 30)  # Output: Sum is 60\n"
      ],
      "metadata": {
        "colab": {
          "base_uri": "https://localhost:8080/"
        },
        "id": "LJfoIvb16GRM",
        "outputId": "7e3669d8-0033-45e8-ad22-d5120f1b2aab"
      },
      "execution_count": null,
      "outputs": [
        {
          "output_type": "stream",
          "name": "stdout",
          "text": [
            "Sum is 60\n"
          ]
        }
      ]
    },
    {
      "cell_type": "markdown",
      "source": [
        "4. Function with **kwargs (Multiple keyword arguments)\n"
      ],
      "metadata": {
        "id": "gTOVQz3c6Nu3"
      }
    },
    {
      "cell_type": "code",
      "source": [
        "def details(**info):\n",
        "    for key, value in info.items():\n",
        "        print(f\"{key}: {value}\")\n",
        "\n",
        "details(name=\"Aditya\", age=22)\n",
        "# Output:\n",
        "# name: Aditya\n",
        "# age: 22\n"
      ],
      "metadata": {
        "colab": {
          "base_uri": "https://localhost:8080/"
        },
        "id": "I6aRdkiX6QzX",
        "outputId": "9ee6b7d5-aa24-48c0-84fe-5ec3b7323e51"
      },
      "execution_count": null,
      "outputs": [
        {
          "output_type": "stream",
          "name": "stdout",
          "text": [
            "name: Aditya\n",
            "age: 22\n"
          ]
        }
      ]
    },
    {
      "cell_type": "markdown",
      "source": [
        "5. Lambda Function (one-liner function)\n"
      ],
      "metadata": {
        "id": "GT66ShRf6ZZH"
      }
    },
    {
      "cell_type": "code",
      "source": [
        "square = lambda x: x * x\n",
        "print(square(5))  # Output: 25\n"
      ],
      "metadata": {
        "colab": {
          "base_uri": "https://localhost:8080/"
        },
        "id": "MvpgvBaL6b9I",
        "outputId": "c29390f8-33b7-4fd4-c30b-f8879a357f40"
      },
      "execution_count": null,
      "outputs": [
        {
          "output_type": "stream",
          "name": "stdout",
          "text": [
            "25\n"
          ]
        }
      ]
    },
    {
      "cell_type": "markdown",
      "source": [
        "# Question-:4"
      ],
      "metadata": {
        "id": "8sbLDNdP61q9"
      }
    },
    {
      "cell_type": "markdown",
      "source": [
        "Q4. What is the purpose of the return statement in a Python function?\n",
        "\n",
        "🔹 The return statement is used to exit a function and send back a value to the caller.\n",
        "🔹 Once return is executed, the function ends immediately, and the specified value is returned.\n",
        "🔹 If no return is given, the function returns None by default."
      ],
      "metadata": {
        "id": "05q9hlX-696H"
      }
    },
    {
      "cell_type": "markdown",
      "source": [
        "✅ Example 1: Returning a Value"
      ],
      "metadata": {
        "id": "N6s9doEd7DjI"
      }
    },
    {
      "cell_type": "code",
      "source": [
        "def add(a, b):\n",
        "    return a + b\n",
        "\n",
        "result = add(5, 3)\n",
        "print(\"Sum is:\", result)\n"
      ],
      "metadata": {
        "colab": {
          "base_uri": "https://localhost:8080/"
        },
        "id": "CpNuy8cQ6_9Y",
        "outputId": "6900bd10-97de-420f-8974-4d5599d27540"
      },
      "execution_count": null,
      "outputs": [
        {
          "output_type": "stream",
          "name": "stdout",
          "text": [
            "Sum is: 8\n"
          ]
        }
      ]
    },
    {
      "cell_type": "markdown",
      "source": [
        "✅ Example 2: Returning Multiple Values"
      ],
      "metadata": {
        "id": "2DJjjc2d7NtY"
      }
    },
    {
      "cell_type": "code",
      "source": [
        "def calculate(a, b):\n",
        "    return a + b, a - b\n",
        "\n",
        "sum_, diff = calculate(10, 4)\n",
        "print(\"Sum:\", sum_)\n",
        "print(\"Difference:\", diff)\n"
      ],
      "metadata": {
        "colab": {
          "base_uri": "https://localhost:8080/"
        },
        "id": "cYod3Dlc7ZKf",
        "outputId": "9a47a224-a749-4bcc-f477-84a09cfb4163"
      },
      "execution_count": null,
      "outputs": [
        {
          "output_type": "stream",
          "name": "stdout",
          "text": [
            "Sum: 14\n",
            "Difference: 6\n"
          ]
        }
      ]
    },
    {
      "cell_type": "markdown",
      "source": [
        "# Question-: 5"
      ],
      "metadata": {
        "id": "psofK13p7dto"
      }
    },
    {
      "cell_type": "markdown",
      "source": [
        "Q5. What are iterators in Python and how do they differ from iterables?\n",
        "\n",
        "🔹 An iterator is an object in Python that allows traversing through all elements of a collection, one element at a time, using the next() function.\n",
        "🔹 An iterable is any Python object capable of returning its members one at a time, such as a list, string, or tuple.\n",
        "\n",
        "✅ To become an iterator, an object must implement:\n",
        "\n",
        "__iter__() method → returns the iterator object\n",
        "\n",
        "__next__() method → returns the next item in the sequence\n",
        "\n",
        "🔸 Difference:\n",
        "Iterable\tIterator\n",
        "Has __iter__() method\tHas both __iter__() and __next__()\n",
        "Can be looped using for\tCan be looped using next() manually\n",
        "Examples: list, tuple, str\tCreated using iter()"
      ],
      "metadata": {
        "id": "Q7sM7wuT7plY"
      }
    },
    {
      "cell_type": "code",
      "source": [
        "# Iterable\n",
        "numbers = [1, 2, 3]\n",
        "\n",
        "# Convert to iterator\n",
        "it = iter(numbers)\n",
        "\n",
        "print(next(it))  # Output: 1\n",
        "print(next(it))  # Output: 2\n",
        "print(next(it))  # Output: 3\n"
      ],
      "metadata": {
        "colab": {
          "base_uri": "https://localhost:8080/"
        },
        "id": "X7dxThNJ8JN_",
        "outputId": "0a05e38b-57f5-4b8b-ba1b-40f8f3bd36fa"
      },
      "execution_count": null,
      "outputs": [
        {
          "output_type": "stream",
          "name": "stdout",
          "text": [
            "1\n",
            "2\n",
            "3\n"
          ]
        }
      ]
    },
    {
      "cell_type": "markdown",
      "source": [
        "# Question-: 6"
      ],
      "metadata": {
        "id": "Y7K-Nzgj8M3B"
      }
    },
    {
      "cell_type": "markdown",
      "source": [
        "Q6. Explain the concept of generators in Python and how they are defined.\n",
        "\n",
        "🔹 A generator is a special type of function in Python that yields values one at a time using the yield keyword instead of return.\n",
        "🔹 Generators are used to produce data lazily, meaning they generate values on the fly and don’t store the entire sequence in memory.\n",
        "\n",
        "🔸 Key Points:\n",
        "Generators use yield instead of return.\n",
        "\n",
        "They are iterators (automatically implement __iter__() and __next__()).\n",
        "\n",
        "Useful for handling large datasets or infinite sequences.\n",
        "\n",
        "✅ Example:\n",
        "\n"
      ],
      "metadata": {
        "id": "ynnOpWyv8Y2_"
      }
    },
    {
      "cell_type": "code",
      "source": [
        "def countdown(n):\n",
        "    while n > 0:\n",
        "        yield n\n",
        "        n -= 1\n",
        "\n",
        "for number in countdown(5):\n",
        "    print(number)\n"
      ],
      "metadata": {
        "colab": {
          "base_uri": "https://localhost:8080/"
        },
        "id": "VusDtTYU9C04",
        "outputId": "22bc85d1-fd3f-4387-9040-7a83cc6a3f89"
      },
      "execution_count": null,
      "outputs": [
        {
          "output_type": "stream",
          "name": "stdout",
          "text": [
            "5\n",
            "4\n",
            "3\n",
            "2\n",
            "1\n"
          ]
        }
      ]
    },
    {
      "cell_type": "markdown",
      "source": [
        "# Question-: 7"
      ],
      "metadata": {
        "id": "ko6kTxfH9GpH"
      }
    },
    {
      "cell_type": "markdown",
      "source": [
        "Q7. What are the advantages of using generators over regular functions?\n",
        "\n",
        "🔹 Generators offer several benefits, especially when working with large data or long-running computations.\n",
        "\n",
        "🔸 Advantages of Generators:\n",
        "Memory Efficient\n",
        "\n",
        "They yield one item at a time instead of storing the entire sequence in memory.\n",
        "\n",
        "Faster Execution (in some cases)\n",
        "\n",
        "Since values are generated lazily, the program starts processing earlier.\n",
        "\n",
        "Infinite Sequences Possible\n",
        "\n",
        "You can create sequences that don’t have a defined end (e.g., Fibonacci, streams).\n",
        "\n",
        "Clean Code\n",
        "\n",
        "Generators use simple syntax with yield, making the code easier to write and read.\n",
        "\n",
        "✅ Example:"
      ],
      "metadata": {
        "id": "Vr724KCH9Nt3"
      }
    },
    {
      "cell_type": "code",
      "source": [
        "def generate_numbers():\n",
        "    for i in range(1, 1000000):\n",
        "        yield i\n",
        "\n",
        "gen = generate_numbers()\n",
        "\n",
        "# Fetch first 5 numbers only\n",
        "for _ in range(5):\n",
        "    print(next(gen))\n"
      ],
      "metadata": {
        "colab": {
          "base_uri": "https://localhost:8080/"
        },
        "id": "MY3tzcHI9YO6",
        "outputId": "1fd14cc6-c7d7-4ef7-c3e7-8b078b6cb23e"
      },
      "execution_count": null,
      "outputs": [
        {
          "output_type": "stream",
          "name": "stdout",
          "text": [
            "1\n",
            "2\n",
            "3\n",
            "4\n",
            "5\n"
          ]
        }
      ]
    },
    {
      "cell_type": "markdown",
      "source": [
        "# Question-: 8"
      ],
      "metadata": {
        "id": "lGXzK5OR9veo"
      }
    },
    {
      "cell_type": "markdown",
      "source": [
        "Q8. What is a lambda function in Python and when is it typically used?\n",
        "\n",
        "🔹 A lambda function is an anonymous, one-line function defined using the lambda keyword.\n",
        "🔹 It can have any number of arguments but only one expression.\n",
        "🔹 Lambda functions are often used when you need a simple function for a short time, especially with functions like map(), filter(), or sorted().\n",
        "Example -"
      ],
      "metadata": {
        "id": "1e_efxAl91W4"
      }
    },
    {
      "cell_type": "code",
      "source": [
        "# Lambda function to double a number\n",
        "double = lambda x: x * 2\n",
        "\n",
        "print(double(5))  # Output: 10\n"
      ],
      "metadata": {
        "colab": {
          "base_uri": "https://localhost:8080/"
        },
        "id": "JbClclzd-HhJ",
        "outputId": "b265fbc7-31d4-4d61-e973-ebf46a568496"
      },
      "execution_count": null,
      "outputs": [
        {
          "output_type": "stream",
          "name": "stdout",
          "text": [
            "10\n"
          ]
        }
      ]
    },
    {
      "cell_type": "markdown",
      "source": [
        "🔸 Common Use Case:\n",
        "Used inside functions like:"
      ],
      "metadata": {
        "id": "coLnnEH2-Ucw"
      }
    },
    {
      "cell_type": "code",
      "source": [
        "numbers = [1, 2, 3, 4]\n",
        "squares = list(map(lambda x: x ** 2, numbers))\n",
        "print(squares)  # Output: [1, 4, 9, 16]\n"
      ],
      "metadata": {
        "colab": {
          "base_uri": "https://localhost:8080/"
        },
        "id": "_bZPm2Qf-WVo",
        "outputId": "3bdce836-9ca3-4efd-ce26-45d4fe588579"
      },
      "execution_count": null,
      "outputs": [
        {
          "output_type": "stream",
          "name": "stdout",
          "text": [
            "[1, 4, 9, 16]\n"
          ]
        }
      ]
    },
    {
      "cell_type": "markdown",
      "source": [
        "# Question-: 9"
      ],
      "metadata": {
        "id": "p0zyn_Hw-Zy4"
      }
    },
    {
      "cell_type": "markdown",
      "source": [
        "Q9. Explain the purpose and usage of the map() function in Python.\n",
        "\n",
        "🔹 The map() function is used to apply a function to every item in an iterable (like a list, tuple, etc.) and returns a map object, which is an iterator.\n",
        "🔹 It is useful for transforming data without writing a loop.\n",
        "\n",
        "🔸 Syntax:"
      ],
      "metadata": {
        "id": "Q4xsC7Sy-dVP"
      }
    },
    {
      "cell_type": "code",
      "source": [
        "map(function, iterable)\n"
      ],
      "metadata": {
        "id": "Kz_Th4xO-v1Z"
      },
      "execution_count": null,
      "outputs": []
    },
    {
      "cell_type": "markdown",
      "source": [
        "function: A function (can be normal or lambda) that will be applied.\n",
        "\n",
        "iterable: A sequence like list, tuple, etc."
      ],
      "metadata": {
        "id": "Wyf2pjTm-3ne"
      }
    },
    {
      "cell_type": "code",
      "source": [
        "# Convert a list of temperatures from Celsius to Fahrenheit\n",
        "celsius = [0, 10, 20, 30]\n",
        "\n",
        "fahrenheit = list(map(lambda c: (c * 9/5) + 32, celsius))\n",
        "\n",
        "print(fahrenheit)\n"
      ],
      "metadata": {
        "colab": {
          "base_uri": "https://localhost:8080/"
        },
        "id": "hulCAV_n-7fJ",
        "outputId": "8745cbe9-569f-43bf-a635-c2e62ccd7d0f"
      },
      "execution_count": null,
      "outputs": [
        {
          "output_type": "stream",
          "name": "stdout",
          "text": [
            "[32.0, 50.0, 68.0, 86.0]\n"
          ]
        }
      ]
    },
    {
      "cell_type": "markdown",
      "source": [
        "# Question-: 10"
      ],
      "metadata": {
        "id": "9qql96nv_DzH"
      }
    },
    {
      "cell_type": "markdown",
      "source": [
        "Q10. What is the difference between map(), reduce(), and filter() functions in Python?\n",
        "\n",
        "These three functions are part of Python’s functional programming tools and are used to process data collections like lists.\n",
        "\n",
        "🔸 Differences:\n",
        "Function\tPurpose\tReturns\tExample Use\n",
        "map()\tApplies a function to each item\tmap object\tTransform items (e.g., square)\n",
        "filter()\tSelects items where function returns True\tfilter object\tFilter even numbers, etc.\n",
        "reduce()\tApplies function cumulatively to reduce to single value\tvalue\tSum, product, etc.\n",
        "\n",
        "🔸 Note: reduce() is in the functools module.\n",
        "\n",
        "✅ Example using all three:"
      ],
      "metadata": {
        "id": "JjcI-7HE_IIK"
      }
    },
    {
      "cell_type": "code",
      "source": [
        "from functools import reduce\n",
        "\n",
        "numbers = [1, 2, 3, 4, 5]\n",
        "\n",
        "# map: square each number\n",
        "squared = list(map(lambda x: x**2, numbers))\n",
        "print(\"Squared:\", squared)  # [1, 4, 9, 16, 25]\n",
        "\n",
        "# filter: keep only even numbers\n",
        "even = list(filter(lambda x: x % 2 == 0, numbers))\n",
        "print(\"Even:\", even)  # [2, 4]\n",
        "\n",
        "# reduce: sum all numbers\n",
        "total = reduce(lambda x, y: x + y, numbers)\n",
        "print(\"Sum:\", total)  # 15\n"
      ],
      "metadata": {
        "colab": {
          "base_uri": "https://localhost:8080/"
        },
        "id": "YkN2vm6M_aYf",
        "outputId": "2051c342-f3a1-479c-e23d-53e9429b76de"
      },
      "execution_count": null,
      "outputs": [
        {
          "output_type": "stream",
          "name": "stdout",
          "text": [
            "Squared: [1, 4, 9, 16, 25]\n",
            "Even: [2, 4]\n",
            "Sum: 15\n"
          ]
        }
      ]
    },
    {
      "cell_type": "markdown",
      "source": [
        "# Question-: 11"
      ],
      "metadata": {
        "id": "D1SBEMxs_gQX"
      }
    },
    {
      "cell_type": "markdown",
      "source": [
        "Q11. Using pen & paper write the internal mechanism for sum operation using reduce() function on this given list: [47, 11, 42, 13]\n",
        "\n",
        "🔸 Explanation of reduce():\n",
        "The reduce() function applies a function cumulatively to the items of a sequence. It reduces the sequence to a single value.\n",
        "\n",
        "Syntax:"
      ],
      "metadata": {
        "id": "7xbOlF4Y_o2I"
      }
    },
    {
      "cell_type": "code",
      "source": [
        "from functools import reduce\n",
        "reduce(function, iterable)\n"
      ],
      "metadata": {
        "id": "Plm7hxWFAcoQ"
      },
      "execution_count": null,
      "outputs": []
    },
    {
      "cell_type": "markdown",
      "source": [
        "![hand imge.jpg](data:image/jpeg;base64,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)"
      ],
      "metadata": {
        "id": "ExrcGksFErjS"
      }
    },
    {
      "cell_type": "markdown",
      "source": [
        "✅ Example with Internal Steps:\n",
        "List: [47, 11, 42, 13]\n",
        "Operation: Sum all numbers using reduce()"
      ],
      "metadata": {
        "id": "KzbbX8bTAfjQ"
      }
    },
    {
      "cell_type": "code",
      "source": [
        "from functools import reduce\n",
        "\n",
        "numbers = [47, 11, 42, 13]\n",
        "result = reduce(lambda x, y: x + y, numbers)\n",
        "print(result)  # Output: 113\n"
      ],
      "metadata": {
        "colab": {
          "base_uri": "https://localhost:8080/"
        },
        "id": "MqQ4tc54AizP",
        "outputId": "29f8f295-37fc-4748-b492-977a7c05e581"
      },
      "execution_count": null,
      "outputs": [
        {
          "output_type": "stream",
          "name": "stdout",
          "text": [
            "113\n"
          ]
        }
      ]
    },
    {
      "cell_type": "markdown",
      "source": [
        "# Practile Question"
      ],
      "metadata": {
        "id": "wmTIVa03A6Uh"
      }
    },
    {
      "cell_type": "markdown",
      "source": [
        "Question 12- Python Function to Return the Sum of All Even Numbers in a List"
      ],
      "metadata": {
        "id": "Exwscc0G1m0l"
      }
    },
    {
      "cell_type": "code",
      "source": [
        "def sum_of_even_numbers(numbers):\n",
        "    even_sum = 0\n",
        "    for num in numbers:\n",
        "        if num % 2 == 0:\n",
        "            even_sum += num\n",
        "    return even_sum\n",
        "\n",
        "# Example usage:\n",
        "my_list = [1, 2, 3, 4, 5, 6, 10]\n",
        "result = sum_of_even_numbers(my_list)\n",
        "print(\"Sum of even numbers:\", result)\n"
      ],
      "metadata": {
        "colab": {
          "base_uri": "https://localhost:8080/"
        },
        "id": "wBaGchm51vxe",
        "outputId": "8763b79b-f1f7-45fe-bc59-11e2aab53116"
      },
      "execution_count": null,
      "outputs": [
        {
          "output_type": "stream",
          "name": "stdout",
          "text": [
            "Sum of even numbers: 22\n"
          ]
        }
      ]
    },
    {
      "cell_type": "markdown",
      "source": [
        "Question 13-Python Function to Reverse a String"
      ],
      "metadata": {
        "id": "re6kOyJv1_fu"
      }
    },
    {
      "cell_type": "code",
      "source": [
        "def reverse_string(s):\n",
        "    return s[::-1]\n",
        "\n",
        "# Example usage:\n",
        "text = \"Aditya\"\n",
        "reversed_text = reverse_string(text)\n",
        "print(\"Reversed string:\", reversed_text)\n"
      ],
      "metadata": {
        "colab": {
          "base_uri": "https://localhost:8080/"
        },
        "id": "mrfoXeli2EI9",
        "outputId": "5a528d12-3c8d-4499-c968-6165ea1f0dea"
      },
      "execution_count": null,
      "outputs": [
        {
          "output_type": "stream",
          "name": "stdout",
          "text": [
            "Reversed string: aytidA\n"
          ]
        }
      ]
    },
    {
      "cell_type": "markdown",
      "source": [
        "**Question 14-** 🧪 PQ3: Python Function to Return a New List Containing the Squares of Each Number **bold text**\n",
        "\n"
      ],
      "metadata": {
        "id": "pnUhWQhr2wMV"
      }
    },
    {
      "cell_type": "code",
      "source": [
        "def square_list(numbers):\n",
        "    squared = []\n",
        "    for num in numbers:\n",
        "        squared.append(num ** 2)\n",
        "    return squared\n",
        "\n",
        "# Example usage:\n",
        "nums = [1, 2, 3, 4, 5]\n",
        "result = square_list(nums)\n",
        "print(\"Squared list:\", result)\n"
      ],
      "metadata": {
        "colab": {
          "base_uri": "https://localhost:8080/"
        },
        "id": "r8JUkLR53LPV",
        "outputId": "a10f852a-1339-4f83-fcc1-de385eaa2393"
      },
      "execution_count": null,
      "outputs": [
        {
          "output_type": "stream",
          "name": "stdout",
          "text": [
            "Squared list: [1, 4, 9, 16, 25]\n"
          ]
        }
      ]
    },
    {
      "cell_type": "markdown",
      "source": [
        "Question 15- PQ4: Python Function to Check Prime Numbers from 1 to 200"
      ],
      "metadata": {
        "id": "ACnShQvJ3Sk0"
      }
    },
    {
      "cell_type": "code",
      "source": [
        "def is_prime(n):\n",
        "    if n <= 1:\n",
        "        return False\n",
        "    for i in range(2, int(n ** 0.5) + 1):\n",
        "        if n % i == 0:\n",
        "            return False\n",
        "    return True\n",
        "\n",
        "def primes_up_to_200():\n",
        "    prime_list = []\n",
        "    for num in range(1, 201):\n",
        "        if is_prime(num):\n",
        "            prime_list.append(num)\n",
        "    return prime_list\n",
        "\n",
        "# Example usage:\n",
        "prime_numbers = primes_up_to_200()\n",
        "print(\"Prime numbers from 1 to 200:\")\n",
        "print(prime_numbers)\n"
      ],
      "metadata": {
        "colab": {
          "base_uri": "https://localhost:8080/"
        },
        "id": "mzokUrjT3Wzc",
        "outputId": "2d003430-81e8-44e1-81b8-0d2931c529ba"
      },
      "execution_count": null,
      "outputs": [
        {
          "output_type": "stream",
          "name": "stdout",
          "text": [
            "Prime numbers from 1 to 200:\n",
            "[2, 3, 5, 7, 11, 13, 17, 19, 23, 29, 31, 37, 41, 43, 47, 53, 59, 61, 67, 71, 73, 79, 83, 89, 97, 101, 103, 107, 109, 113, 127, 131, 137, 139, 149, 151, 157, 163, 167, 173, 179, 181, 191, 193, 197, 199]\n"
          ]
        }
      ]
    },
    {
      "cell_type": "markdown",
      "source": [
        "Question 16- terator Class in Python to Generate Fibonacci Sequence up to N Terms"
      ],
      "metadata": {
        "id": "ik74zM5V3pDF"
      }
    },
    {
      "cell_type": "code",
      "source": [
        "class FibonacciIterator:\n",
        "    def __init__(self, max_terms):\n",
        "        self.max_terms = max_terms\n",
        "        self.count = 0\n",
        "        self.a = 0\n",
        "        self.b = 1\n",
        "\n",
        "    def __iter__(self):\n",
        "        return self\n",
        "\n",
        "    def __next__(self):\n",
        "        if self.count >= self.max_terms:\n",
        "            raise StopIteration\n",
        "        if self.count == 0:\n",
        "            self.count += 1\n",
        "            return self.a\n",
        "        elif self.count == 1:\n",
        "            self.count += 1\n",
        "            return self.b\n",
        "        else:\n",
        "            self.count += 1\n",
        "            self.a, self.b = self.b, self.a + self.b\n",
        "            return self.b\n",
        "\n",
        "# Example usage:\n",
        "n = 10\n",
        "fib_seq = FibonacciIterator(n)\n",
        "print(f\"Fibonacci sequence up to {n} terms:\")\n",
        "for num in fib_seq:\n",
        "    print(num, end=' ')\n"
      ],
      "metadata": {
        "colab": {
          "base_uri": "https://localhost:8080/"
        },
        "id": "ufViD94M3vCb",
        "outputId": "664740fa-d482-4e73-adb8-79c726c668f5"
      },
      "execution_count": null,
      "outputs": [
        {
          "output_type": "stream",
          "name": "stdout",
          "text": [
            "Fibonacci sequence up to 10 terms:\n",
            "0 1 1 2 3 5 8 13 21 34 "
          ]
        }
      ]
    },
    {
      "cell_type": "markdown",
      "source": [
        "Question 17-enerator Function in Python that Yields Powers of 2 up to a Given Exponen"
      ],
      "metadata": {
        "id": "suLMxbaQ36D9"
      }
    },
    {
      "cell_type": "code",
      "source": [
        "def powers_of_two(limit):\n",
        "    for exp in range(limit + 1):\n",
        "        yield 2 ** exp\n",
        "\n",
        "# Example usage:\n",
        "n = 5\n",
        "print(f\"Powers of 2 from 2^0 to 2^{n}:\")\n",
        "for val in powers_of_two(n):\n",
        "    print(val, end=' ')\n"
      ],
      "metadata": {
        "colab": {
          "base_uri": "https://localhost:8080/"
        },
        "id": "EDb9P2V34lZV",
        "outputId": "f897355e-2d94-44df-82ca-3d26f927cbec"
      },
      "execution_count": null,
      "outputs": [
        {
          "output_type": "stream",
          "name": "stdout",
          "text": [
            "Powers of 2 from 2^0 to 2^5:\n",
            "1 2 4 8 16 32 "
          ]
        }
      ]
    },
    {
      "cell_type": "markdown",
      "source": [
        "Question 18- enerator Function That Reads a File Line by Line and Yields Each Line as a String"
      ],
      "metadata": {
        "id": "AECK6KRi5GVU"
      }
    },
    {
      "cell_type": "markdown",
      "source": [
        "/content/sample_data"
      ],
      "metadata": {
        "id": "hqoHu_xl_u0O"
      }
    },
    {
      "cell_type": "code",
      "source": [
        "def read_file_lines(filename):\n",
        "    with open(filename, 'r') as file:\n",
        "        for line in file:\n",
        "            yield line.strip()  # Removes newline characters\n",
        "\n",
        "# Example usage:\n",
        "# Make sure a file named 'sample.txt' exists in the same directory\n",
        "for line in read_file_lines('sample.txt'):\n",
        "    print(line)\n"
      ],
      "metadata": {
        "colab": {
          "base_uri": "https://localhost:8080/"
        },
        "id": "1fUqmQ8E5cG7",
        "outputId": "77630e54-d073-4f71-db1b-b104b0cc9000"
      },
      "execution_count": null,
      "outputs": [
        {
          "output_type": "stream",
          "name": "stdout",
          "text": [
            "Hello Aditya\n",
            "This is a sample file\n",
            "Generator is working fine\n"
          ]
        }
      ]
    },
    {
      "cell_type": "markdown",
      "source": [
        "Question 19-Use a Lambda Function in Python to Sort a List of Tuples Based on the Second Element of Each Tuple"
      ],
      "metadata": {
        "id": "IWWXKv7GAko6"
      }
    },
    {
      "cell_type": "code",
      "source": [
        "# List of tuples\n",
        "data = [(1, 5), (3, 1), (2, 4), (4, 2)]\n",
        "\n",
        "# Sort using lambda (based on 2nd element)\n",
        "sorted_data = sorted(data, key=lambda x: x[1])\n",
        "\n",
        "# Output\n",
        "print(\"Sorted list based on second element:\")\n",
        "print(sorted_data)\n"
      ],
      "metadata": {
        "colab": {
          "base_uri": "https://localhost:8080/"
        },
        "id": "6iJWVGsgBNrn",
        "outputId": "89b75a10-1381-44ad-db47-04a17b4fa2c6"
      },
      "execution_count": null,
      "outputs": [
        {
          "output_type": "stream",
          "name": "stdout",
          "text": [
            "Sorted list based on second element:\n",
            "[(3, 1), (4, 2), (2, 4), (1, 5)]\n"
          ]
        }
      ]
    },
    {
      "cell_type": "markdown",
      "source": [
        "Question 20- Use map() in Python to Convert a List of Temperatures from Celsius to Fahrenheit"
      ],
      "metadata": {
        "id": "c6vISaYfAknG"
      }
    },
    {
      "cell_type": "code",
      "source": [
        "# Celsius temperatures list\n",
        "celsius = [0, 20, 37, 100]\n",
        "\n",
        "# Convert to Fahrenheit using map() and lambda\n",
        "fahrenheit = list(map(lambda c: (c * 9/5) + 32, celsius))\n",
        "\n",
        "# Output\n",
        "print(\"Temperatures in Fahrenheit:\")\n",
        "print(fahrenheit)\n"
      ],
      "metadata": {
        "colab": {
          "base_uri": "https://localhost:8080/"
        },
        "id": "LaMJGwSWHPpk",
        "outputId": "3154ca93-a66f-4c98-a340-10c1000c9b91"
      },
      "execution_count": null,
      "outputs": [
        {
          "output_type": "stream",
          "name": "stdout",
          "text": [
            "Temperatures in Fahrenheit:\n",
            "[32.0, 68.0, 98.6, 212.0]\n"
          ]
        }
      ]
    },
    {
      "cell_type": "markdown",
      "source": [
        "Output\n",
        "Temperatures in Fahrenheit:\n",
        "[32.0, 68.0, 98.6, 212.0]\n"
      ],
      "metadata": {
        "id": "6HHgu1zdHXBU"
      }
    },
    {
      "cell_type": "markdown",
      "source": [
        "Question 21-: Use filter() in Python to Remove All Vowels from a Given String\n",
        "\n"
      ],
      "metadata": {
        "id": "RVvELyiyHhHN"
      }
    },
    {
      "cell_type": "code",
      "source": [
        "def remove_vowels(text):\n",
        "    vowels = \"aeiouAEIOU\"\n",
        "    # Filter out vowels\n",
        "    result = filter(lambda ch: ch not in vowels, text)\n",
        "    return ''.join(result)\n",
        "\n",
        "# Example usage\n",
        "input_string = \"Aditya is learning Python\"\n",
        "output_string = remove_vowels(input_string)\n",
        "\n",
        "print(\"Original String: \", input_string)\n",
        "print(\"String without vowels: \", output_string)\n"
      ],
      "metadata": {
        "colab": {
          "base_uri": "https://localhost:8080/"
        },
        "id": "ket14kuoH-Db",
        "outputId": "3a60ba35-1dc7-4036-c8b1-473762eb11ae"
      },
      "execution_count": null,
      "outputs": [
        {
          "output_type": "stream",
          "name": "stdout",
          "text": [
            "Original String:  Aditya is learning Python\n",
            "String without vowels:  dty s lrnng Pythn\n"
          ]
        }
      ]
    },
    {
      "cell_type": "markdown",
      "source": [
        "Question 22-Book Shop Accounting Routine (with lambda and map())\n",
        "❓ Question:\n",
        "\n",
        "Imagine an accounting routine used in a book shop. It works on a list with sublists, which look like this:"
      ],
      "metadata": {
        "id": "RxkbCelbID8E"
      }
    },
    {
      "cell_type": "markdown",
      "source": [
        "[\n",
        "    [order_number, item_name, price_per_item, quantity],\n",
        "    ...\n",
        "]\n"
      ],
      "metadata": {
        "id": "pIwBcwVgIbgl"
      }
    },
    {
      "cell_type": "markdown",
      "source": [
        "📌 Task:\n",
        "\n",
        "Write a Python program that:\n",
        "\n",
        "Returns a list of 2-tuples\n",
        "\n",
        "Each tuple should consist of:\n",
        "\n",
        "The order number\n",
        "\n",
        "The total price = price_per_item × quantity\n",
        "\n",
        "If the total price is less than 100, add €10 extra charge\n",
        "\n",
        "✅ Additional Condition:\n",
        "\n",
        "Use lambda and map() functions to implement the logic."
      ],
      "metadata": {
        "id": "kDdBj6wNIkOF"
      }
    },
    {
      "cell_type": "code",
      "source": [
        "orders = [\n",
        "    [101, \"Notebook\", 15, 2],\n",
        "    [102, \"Pen\", 5, 15],\n",
        "    [103, \"Bag\", 50, 1],\n",
        "    [104, \"Calculator\", 45, 3]\n",
        "]\n"
      ],
      "metadata": {
        "id": "QAp0k4E8Il50"
      },
      "execution_count": null,
      "outputs": []
    },
    {
      "cell_type": "code",
      "source": [
        "[\n",
        "    (101, 40),   # 15*2 = 30 < 100 → +10 = 40\n",
        "    (102, 85),   # 5*15 = 75 < 100 → +10 = 85\n",
        "    (103, 60),   # 50*1 = 50 < 100 → +10 = 60\n",
        "    (104, 135)   # 45*3 = 135 ≥ 100 → No extra\n",
        "]\n"
      ],
      "metadata": {
        "colab": {
          "base_uri": "https://localhost:8080/"
        },
        "id": "RNSKFjxwI0pj",
        "outputId": "0800e350-9768-4789-9b61-0e0c24e7bb3b"
      },
      "execution_count": null,
      "outputs": [
        {
          "output_type": "execute_result",
          "data": {
            "text/plain": [
              "[(101, 40), (102, 85), (103, 60), (104, 135)]"
            ]
          },
          "metadata": {},
          "execution_count": 15
        }
      ]
    }
  ]
}