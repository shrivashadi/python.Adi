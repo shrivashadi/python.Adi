{
  "nbformat": 4,
  "nbformat_minor": 0,
  "metadata": {
    "colab": {
      "provenance": [],
      "authorship_tag": "ABX9TyPpmDu8eSE1dUDX70RcFfGi",
      "include_colab_link": true
    },
    "kernelspec": {
      "name": "python3",
      "display_name": "Python 3"
    },
    "language_info": {
      "name": "python"
    }
  },
  "cells": [
    {
      "cell_type": "markdown",
      "metadata": {
        "id": "view-in-github",
        "colab_type": "text"
      },
      "source": [
        "<a href=\"https://colab.research.google.com/github/shrivashadi/python.Adi/blob/main/Aditya.ipynb\" target=\"_parent\"><img src=\"https://colab.research.google.com/assets/colab-badge.svg\" alt=\"Open In Colab\"/></a>"
      ]
    },
    {
      "cell_type": "markdown",
      "source": [
        "Question - 1"
      ],
      "metadata": {
        "id": "sON_Gax9sbPv"
      }
    },
    {
      "cell_type": "code",
      "execution_count": null,
      "metadata": {
        "colab": {
          "base_uri": "https://localhost:8080/"
        },
        "id": "qoiD3we3q86J",
        "outputId": "76351bc4-2572-4ee7-ddfe-860ba543d185"
      },
      "outputs": [
        {
          "output_type": "stream",
          "name": "stdout",
          "text": [
            "Aditya\n"
          ]
        }
      ],
      "source": [
        "name = \"Aditya\"\n",
        "print(name)"
      ]
    },
    {
      "cell_type": "markdown",
      "source": [
        "Question- 2"
      ],
      "metadata": {
        "id": "BwmsFQ5DtDE0"
      }
    },
    {
      "cell_type": "code",
      "source": [
        "text = \"hello world\"\n",
        "length = len(text)\n",
        "print(length)"
      ],
      "metadata": {
        "colab": {
          "base_uri": "https://localhost:8080/"
        },
        "id": "clhsx5w8tIY8",
        "outputId": "5ca79a95-d085-4424-ab68-c48b4068cf55"
      },
      "execution_count": null,
      "outputs": [
        {
          "output_type": "stream",
          "name": "stdout",
          "text": [
            "11\n"
          ]
        }
      ]
    },
    {
      "cell_type": "markdown",
      "source": [
        "question- 3"
      ],
      "metadata": {
        "id": "0ikI11-JtkwJ"
      }
    },
    {
      "cell_type": "markdown",
      "source": [],
      "metadata": {
        "id": "QoHnBOvwtpH-"
      }
    },
    {
      "cell_type": "code",
      "source": [
        "text = \"python programming\"\n",
        "sliced_text = text[:3]\n",
        "print(sliced_text)"
      ],
      "metadata": {
        "colab": {
          "base_uri": "https://localhost:8080/"
        },
        "id": "IWvht04-trYi",
        "outputId": "f18e11fc-c2d3-4490-edcf-6a3fd677938b"
      },
      "execution_count": null,
      "outputs": [
        {
          "output_type": "stream",
          "name": "stdout",
          "text": [
            "pyt\n"
          ]
        }
      ]
    },
    {
      "cell_type": "markdown",
      "source": [
        "Question 4"
      ],
      "metadata": {
        "id": "eUuyv5unuQex"
      }
    },
    {
      "cell_type": "code",
      "source": [
        "text = \"hello\"\n",
        "uppercase_text =text.upper()\n",
        "print(uppercase_text)"
      ],
      "metadata": {
        "colab": {
          "base_uri": "https://localhost:8080/"
        },
        "id": "o7jneYcuuU8A",
        "outputId": "55bdd607-edab-46a8-970f-93e5e25fa00b"
      },
      "execution_count": null,
      "outputs": [
        {
          "output_type": "stream",
          "name": "stdout",
          "text": [
            "HELLO\n"
          ]
        }
      ]
    },
    {
      "cell_type": "markdown",
      "source": [
        "question- 5"
      ],
      "metadata": {
        "id": "IaZIgxqGuzbW"
      }
    },
    {
      "cell_type": "code",
      "source": [
        "text = \"I like apple\"\n",
        "new_text = text.replace(\"apple\", \"orange\")\n",
        "(new_text)"
      ],
      "metadata": {
        "colab": {
          "base_uri": "https://localhost:8080/",
          "height": 36
        },
        "id": "gX_luLCsu3f0",
        "outputId": "b1fbd77f-81aa-47b2-cc8c-dbc5452fdbea"
      },
      "execution_count": null,
      "outputs": [
        {
          "output_type": "execute_result",
          "data": {
            "text/plain": [
              "'I like orange'"
            ],
            "application/vnd.google.colaboratory.intrinsic+json": {
              "type": "string"
            }
          },
          "metadata": {},
          "execution_count": 5
        }
      ]
    },
    {
      "cell_type": "markdown",
      "source": [
        "question - 6"
      ],
      "metadata": {
        "id": "bYdGyy0MvlnC"
      }
    },
    {
      "cell_type": "code",
      "source": [
        "# Create a list with number from 1 to 5\n",
        "my_list = [1,2,3,4,5]\n",
        "\n",
        "# print the list\n",
        "print(my_list)"
      ],
      "metadata": {
        "colab": {
          "base_uri": "https://localhost:8080/"
        },
        "id": "EuRV_HwovpTA",
        "outputId": "b7cc1bbd-3842-4414-e742-bc25045ba367"
      },
      "execution_count": null,
      "outputs": [
        {
          "output_type": "stream",
          "name": "stdout",
          "text": [
            "[1, 2, 3, 4, 5]\n"
          ]
        }
      ]
    },
    {
      "cell_type": "markdown",
      "source": [
        "Question-7"
      ],
      "metadata": {
        "id": "rV35p0bFxPJn"
      }
    },
    {
      "cell_type": "code",
      "source": [
        "# The initial list\n",
        "my_list = [1,2,3,4]\n",
        "\n",
        "# Append the number 10 to the last\n",
        "my_list.append(10)\n",
        "\n",
        "# Print the modified list\n",
        "print(my_list)"
      ],
      "metadata": {
        "colab": {
          "base_uri": "https://localhost:8080/"
        },
        "id": "TcX0v4tVxZJI",
        "outputId": "78970d26-98dd-4a79-aaef-239000c00b9e"
      },
      "execution_count": null,
      "outputs": [
        {
          "output_type": "stream",
          "name": "stdout",
          "text": [
            "[1, 2, 3, 4, 10]\n"
          ]
        }
      ]
    },
    {
      "cell_type": "markdown",
      "source": [
        "Question-8"
      ],
      "metadata": {
        "id": "a9E03DKqyNIP"
      }
    },
    {
      "cell_type": "code",
      "source": [
        "# The initial list\n",
        "my_list = [1,2,3,4,5]\n",
        "\n",
        "# Remove the number 3 from the list\n",
        "my_list.remove(3)\n",
        "\n",
        "#print the modified list\n",
        "print(my_list)"
      ],
      "metadata": {
        "colab": {
          "base_uri": "https://localhost:8080/"
        },
        "id": "kWSDtXNRyTtB",
        "outputId": "800aa0c0-1e63-44bf-d8ef-77f6a6111be6"
      },
      "execution_count": null,
      "outputs": [
        {
          "output_type": "stream",
          "name": "stdout",
          "text": [
            "[1, 2, 4, 5]\n"
          ]
        }
      ]
    },
    {
      "cell_type": "markdown",
      "source": [
        "Question-9"
      ],
      "metadata": {
        "id": "ePaHtswczRBM"
      }
    },
    {
      "cell_type": "code",
      "source": [
        "my_list = ['a','b','c','d']\n",
        "# Accessing the second element (which is at index 1)\n",
        "second_element = my_list[1]\n",
        "\n",
        "print(second_element)"
      ],
      "metadata": {
        "colab": {
          "base_uri": "https://localhost:8080/"
        },
        "id": "XPm40BMazVbC",
        "outputId": "db2f514a-013f-41ba-97c1-5553b95097bd"
      },
      "execution_count": null,
      "outputs": [
        {
          "output_type": "stream",
          "name": "stdout",
          "text": [
            "b\n"
          ]
        }
      ]
    },
    {
      "cell_type": "markdown",
      "source": [
        "Question-10"
      ],
      "metadata": {
        "id": "xblVIafg0jUl"
      }
    },
    {
      "cell_type": "code",
      "source": [
        "my_list = [10,20,30,40,50]\n",
        "my_list.reverse()\n",
        "print(my_list)"
      ],
      "metadata": {
        "colab": {
          "base_uri": "https://localhost:8080/"
        },
        "id": "PFzsChmd0oh6",
        "outputId": "a5e74d0d-7be2-4605-f4eb-cac857351961"
      },
      "execution_count": null,
      "outputs": [
        {
          "output_type": "stream",
          "name": "stdout",
          "text": [
            "[50, 40, 30, 20, 10]\n"
          ]
        }
      ]
    },
    {
      "cell_type": "markdown",
      "source": [
        "Question-11"
      ],
      "metadata": {
        "id": "Jy_1kfX93YGd"
      }
    },
    {
      "cell_type": "code",
      "source": [
        "# Create a tuple with the elements 100,200,300\n",
        "my_tuple = (100, 200, 300)\n",
        "\n",
        "# Print the tuple\n",
        "print(my_tuple)"
      ],
      "metadata": {
        "colab": {
          "base_uri": "https://localhost:8080/"
        },
        "id": "1RrnLt4058Mw",
        "outputId": "49b91502-3e3b-43e0-97b1-862b5e98036b"
      },
      "execution_count": null,
      "outputs": [
        {
          "output_type": "stream",
          "name": "stdout",
          "text": [
            "(100, 200, 300)\n"
          ]
        }
      ]
    },
    {
      "cell_type": "markdown",
      "source": [
        "Question- 12"
      ],
      "metadata": {
        "id": "41NufQOC6yq_"
      }
    },
    {
      "cell_type": "code",
      "source": [
        "# Create the givan tuple\n",
        "my_tuple = (10, 20, 40, 50, 40, 10, 40)\n",
        "\n",
        "#Find the number of time 40 appears in the tuple\n",
        "count_of_40 = my_tuple.count(40)\n",
        "\n",
        "# Print the result\n",
        "print(\"The number of times 40 appears in the tuple is:\", count_of_40)"
      ],
      "metadata": {
        "colab": {
          "base_uri": "https://localhost:8080/"
        },
        "id": "0B-2GpFe63Vc",
        "outputId": "8b81c1cb-cac0-4b61-8595-fe07b89a6dac"
      },
      "execution_count": null,
      "outputs": [
        {
          "output_type": "stream",
          "name": "stdout",
          "text": [
            "The number of times 40 appears in the tuple is: 3\n"
          ]
        }
      ]
    },
    {
      "cell_type": "markdown",
      "source": [
        "Question-13"
      ],
      "metadata": {
        "id": "jmA7ZyNC8eWJ"
      }
    },
    {
      "cell_type": "code",
      "source": [
        "# Create the givan tuple\n",
        "my_tuple = ('red', 'green', 'blue', 'yellow')\n",
        "\n",
        "# Find the second_to_last element\n",
        "# In python, negtive indexing can be used to access elements from the and of a tuple (or list).\n",
        "# -1 refers to the last element, -2 refers to the second-to-last, and so on\n",
        "second_to_last_element = my_tuple[-2]\n",
        "\n",
        "# Print the result\n",
        "print(\"The second-to-lastelement of the tuple is:\", second_to_last_element)"
      ],
      "metadata": {
        "colab": {
          "base_uri": "https://localhost:8080/"
        },
        "id": "VZfv-TV-8s20",
        "outputId": "1dda6436-86cc-42ac-902e-f11a755647f1"
      },
      "execution_count": null,
      "outputs": [
        {
          "output_type": "stream",
          "name": "stdout",
          "text": [
            "The second-to-lastelement of the tuple is: blue\n"
          ]
        }
      ]
    },
    {
      "cell_type": "markdown",
      "source": [
        "Question- 14"
      ],
      "metadata": {
        "id": "W1k9JiZi_g1Y"
      }
    },
    {
      "cell_type": "code",
      "source": [
        "my_tuple = ('dog', 'cat', 'rabbit')\n",
        "index_of_cat = my_tuple.index('cat')\n",
        "print(index_of_cat)"
      ],
      "metadata": {
        "id": "g0jgCpxM_nmQ",
        "colab": {
          "base_uri": "https://localhost:8080/"
        },
        "outputId": "b6179084-fd35-4542-d151-9d85e37f2bb1"
      },
      "execution_count": null,
      "outputs": [
        {
          "output_type": "stream",
          "name": "stdout",
          "text": [
            "1\n"
          ]
        }
      ]
    },
    {
      "cell_type": "markdown",
      "source": [
        "Question-15"
      ],
      "metadata": {
        "id": "XtjRN9zdGGyF"
      }
    },
    {
      "cell_type": "code",
      "source": [
        "fruits_tuple = ('apple', 'banana', 'orange')\n",
        "if 'kiwi' in fruits_tuple:\n",
        "    print(\"kiwi is in the tuple.\")\n",
        "else:\n",
        "    print(\"kiwi is not in the tuple.\")"
      ],
      "metadata": {
        "colab": {
          "base_uri": "https://localhost:8080/"
        },
        "id": "DVn115ZuGLFi",
        "outputId": "876ed689-24af-4c06-b8db-c62ce21f47cb"
      },
      "execution_count": null,
      "outputs": [
        {
          "output_type": "stream",
          "name": "stdout",
          "text": [
            "kiwi is not in the tuple.\n"
          ]
        }
      ]
    },
    {
      "cell_type": "markdown",
      "source": [
        "Question-16"
      ],
      "metadata": {
        "id": "ORFNq0muHUVv"
      }
    },
    {
      "cell_type": "code",
      "source": [
        "my_set = {'a', 'b', 'c'}\n",
        "print(my_set)"
      ],
      "metadata": {
        "colab": {
          "base_uri": "https://localhost:8080/"
        },
        "id": "ClfBlt4jHZIR",
        "outputId": "61a5d0a9-224d-4030-f9b2-49508ee035f6"
      },
      "execution_count": null,
      "outputs": [
        {
          "output_type": "stream",
          "name": "stdout",
          "text": [
            "{'c', 'a', 'b'}\n"
          ]
        }
      ]
    },
    {
      "cell_type": "markdown",
      "source": [
        "Question-17"
      ],
      "metadata": {
        "id": "0iyEzBP7IATi"
      }
    },
    {
      "cell_type": "code",
      "source": [
        "my_set = {1, 2, 3, 4, 5}\n",
        "my_set.clear()\n",
        "print(my_set)"
      ],
      "metadata": {
        "colab": {
          "base_uri": "https://localhost:8080/"
        },
        "id": "xKoSyQM1IS89",
        "outputId": "25606088-8dc6-4dbc-c323-f455c98f07e4"
      },
      "execution_count": null,
      "outputs": [
        {
          "output_type": "stream",
          "name": "stdout",
          "text": [
            "set()\n"
          ]
        }
      ]
    },
    {
      "cell_type": "markdown",
      "source": [
        "Question-18"
      ],
      "metadata": {
        "id": "ynY_0jh9I5LX"
      }
    },
    {
      "cell_type": "code",
      "source": [
        "my_set = {1, 2, 3, 4}\n",
        "my_set.remove(4)\n",
        "print(my_set)"
      ],
      "metadata": {
        "colab": {
          "base_uri": "https://localhost:8080/"
        },
        "id": "iTj8Tni3JKdX",
        "outputId": "548c701a-e47e-45f0-c433-761e5ddf525f"
      },
      "execution_count": null,
      "outputs": [
        {
          "output_type": "stream",
          "name": "stdout",
          "text": [
            "{1, 2, 3}\n"
          ]
        }
      ]
    },
    {
      "cell_type": "markdown",
      "source": [
        "Question-19"
      ],
      "metadata": {
        "id": "pKmLEpUuNqL_"
      }
    },
    {
      "cell_type": "code",
      "source": [
        "set1 = {1, 2, 3}\n",
        "set2 = {3, 4, 5}\n",
        "\n",
        "union_set = set1.union(set2)\n",
        "# Alternatively, you can use the | operator:\n",
        "# union_set = set1 | set2\n",
        "\n",
        "print(union_set)"
      ],
      "metadata": {
        "colab": {
          "base_uri": "https://localhost:8080/"
        },
        "id": "8c2asJzUN4Em",
        "outputId": "a9224892-4021-4a3e-f810-5c9953728cf3"
      },
      "execution_count": null,
      "outputs": [
        {
          "output_type": "stream",
          "name": "stdout",
          "text": [
            "{1, 2, 3, 4, 5}\n"
          ]
        }
      ]
    },
    {
      "cell_type": "markdown",
      "source": [
        "Question-20"
      ],
      "metadata": {
        "id": "D5C_IyszO1pG"
      }
    },
    {
      "cell_type": "code",
      "source": [
        "set1 = {1, 2, 3}\n",
        "set2 = {2, 3, 4}\n",
        "\n",
        "intersection_set = set1.intersection(set2)\n",
        "# Alternatively, you can use the & operator:\n",
        "# intersection_set = set1 & set2\n",
        "\n",
        "print(intersection_set)"
      ],
      "metadata": {
        "colab": {
          "base_uri": "https://localhost:8080/"
        },
        "id": "SQrdpqx_O5ct",
        "outputId": "58989757-6b79-4fd4-c63e-ca89b2b44940"
      },
      "execution_count": null,
      "outputs": [
        {
          "output_type": "stream",
          "name": "stdout",
          "text": [
            "{2, 3}\n"
          ]
        }
      ]
    },
    {
      "cell_type": "markdown",
      "source": [
        "Question-21"
      ],
      "metadata": {
        "id": "dtzR2tpFQi01"
      }
    },
    {
      "cell_type": "code",
      "source": [
        "my_dict = {\"name\": \"Alice\",\n",
        "           \"age\": 30,\n",
        "           \"city\": \"New York\"}\n",
        "print(my_dict)"
      ],
      "metadata": {
        "colab": {
          "base_uri": "https://localhost:8080/"
        },
        "id": "UIDHJwXvQnIc",
        "outputId": "74b87084-b89f-43fa-cdc7-e5059e4785f8"
      },
      "execution_count": null,
      "outputs": [
        {
          "output_type": "stream",
          "name": "stdout",
          "text": [
            "{'name': 'Alice', 'age': 30, 'city': 'New York'}\n"
          ]
        }
      ]
    },
    {
      "cell_type": "markdown",
      "source": [
        "Question-22"
      ],
      "metadata": {
        "id": "z6uZlYqkShJQ"
      }
    },
    {
      "cell_type": "code",
      "source": [
        "my_dict = {'name': 'jhon', 'age': 25}\n",
        "my_dict['country'] = 'USA'\n",
        "print(my_dict)"
      ],
      "metadata": {
        "colab": {
          "base_uri": "https://localhost:8080/"
        },
        "id": "-M3MK0sQSnhM",
        "outputId": "6ded4a12-759c-4cbb-feeb-ab3b14d233a2"
      },
      "execution_count": null,
      "outputs": [
        {
          "output_type": "stream",
          "name": "stdout",
          "text": [
            "{'name': 'jhon', 'age': 25, 'country': 'USA'}\n"
          ]
        }
      ]
    },
    {
      "cell_type": "markdown",
      "source": [
        "Question-23"
      ],
      "metadata": {
        "id": "bW7pSa7cTRHE"
      }
    },
    {
      "cell_type": "code",
      "source": [
        "my_dict = {'name': 'Alice', 'age': 30}\n",
        "name_value = my_dict['name']\n",
        "print(name_value)"
      ],
      "metadata": {
        "colab": {
          "base_uri": "https://localhost:8080/"
        },
        "id": "Rgjjs10aTVsm",
        "outputId": "29df3ee4-b3ad-4665-b28f-9e4f1489e5cc"
      },
      "execution_count": null,
      "outputs": [
        {
          "output_type": "stream",
          "name": "stdout",
          "text": [
            "Alice\n"
          ]
        }
      ]
    },
    {
      "cell_type": "markdown",
      "source": [
        "Question-24"
      ],
      "metadata": {
        "id": "Y2rE7Uq6UQPx"
      }
    },
    {
      "cell_type": "code",
      "source": [
        "my_dict = {'name': 'Bob', 'age': 22, 'city': 'New York'}\n",
        "del my_dict['age']\n",
        "print(my_dict)"
      ],
      "metadata": {
        "colab": {
          "base_uri": "https://localhost:8080/"
        },
        "id": "s8rcNPOPUWpO",
        "outputId": "985834f6-1be9-45ab-8e53-71adc63cb3a9"
      },
      "execution_count": null,
      "outputs": [
        {
          "output_type": "stream",
          "name": "stdout",
          "text": [
            "{'name': 'Bob', 'city': 'New York'}\n"
          ]
        }
      ]
    },
    {
      "cell_type": "markdown",
      "source": [
        "Question-25"
      ],
      "metadata": {
        "id": "KbAk75eMV1GO"
      }
    },
    {
      "cell_type": "code",
      "source": [
        "my_dict = {'name': 'Alice', 'city': 'paris'}\n",
        "if 'city' in my_dict:\n",
        "    print(\"The key 'city' exists in the dictionary. \")\n",
        "else:\n",
        "    print(\"the key 'city' does not exist in the dictionary.\")"
      ],
      "metadata": {
        "colab": {
          "base_uri": "https://localhost:8080/"
        },
        "id": "OGdxePDkV5IO",
        "outputId": "974907bf-4eae-4b78-c632-072e47182e6a"
      },
      "execution_count": null,
      "outputs": [
        {
          "output_type": "stream",
          "name": "stdout",
          "text": [
            "The key 'city' exists in the dictionary. \n"
          ]
        }
      ]
    },
    {
      "cell_type": "markdown",
      "source": [
        "Question-26"
      ],
      "metadata": {
        "id": "QRDLm-p0ZHcF"
      }
    },
    {
      "cell_type": "code",
      "source": [
        "# Create a list\n",
        "my_list = [10, 20, 30, 'apple', 'banana']\n",
        "\n",
        "# Create a tuple\n",
        "my_tuple = (1, 2, 3, 'red', 'green')\n",
        "\n",
        "# Create a dictionary\n",
        "my_dictionary = {\n",
        "    \"name\": \"John Doe\",\n",
        "    \"is_student\": False\n",
        "}\n",
        "\n",
        "\n",
        "\n",
        "# Print them all\n",
        "print(\"My List:\", my_list)\n",
        "print(\"My Tuple:\", my_tuple)\n",
        "print(\"My Dictionary:\", my_dictionary)\n"
      ],
      "metadata": {
        "colab": {
          "base_uri": "https://localhost:8080/"
        },
        "id": "9aEgQUNiZLKU",
        "outputId": "b0d3dd07-3ece-4901-dea6-c0c211761986"
      },
      "execution_count": null,
      "outputs": [
        {
          "output_type": "stream",
          "name": "stdout",
          "text": [
            "My List: [10, 20, 30, 'apple', 'banana']\n",
            "My Tuple: (1, 2, 3, 'red', 'green')\n",
            "My Dictionary: {'name': 'John Doe', 'is_student': False}\n"
          ]
        }
      ]
    },
    {
      "cell_type": "markdown",
      "source": [
        "Question-27"
      ],
      "metadata": {
        "id": "DGMLoCm2gmlW"
      }
    },
    {
      "cell_type": "code",
      "source": [
        "import random\n",
        "# Create a list to store the random numbers\n",
        "random_numbers =[]\n",
        "\n",
        "# Generate 5 random numbers between 1 and 100 (inclusive) for _ in range (5): random_numbers.app end(random.randint(1, 100))\n",
        "\n",
        "print(\"orignal list of random number:\" , random_numbers)\n",
        "\n",
        "# Sort the list in ascending or order random_number.sort()\n",
        "\n",
        "print(\"Sorted list (ascending):\", random_numbers)\n"
      ],
      "metadata": {
        "colab": {
          "base_uri": "https://localhost:8080/"
        },
        "id": "iMOs_CgRg02U",
        "outputId": "b656bfa9-84e9-4ae6-943e-a5b7d9746e89"
      },
      "execution_count": null,
      "outputs": [
        {
          "output_type": "stream",
          "name": "stdout",
          "text": [
            "orignal list of random number: []\n",
            "Sorted list (ascending): []\n"
          ]
        }
      ]
    },
    {
      "cell_type": "markdown",
      "source": [
        "Question- 28"
      ],
      "metadata": {
        "id": "v4mtBDzekK8r"
      }
    },
    {
      "cell_type": "code",
      "source": [
        "my_list_of_strings = [\"apple\", \"banana\", \"cherry\", \"date\", \"elderberry\"]\n",
        "\n",
        "# Print the element at the thied index (index 2)\n",
        "print(\"The element at the third index is:\", my_list_of_strings[2])"
      ],
      "metadata": {
        "id": "I33W6seikPyy",
        "colab": {
          "base_uri": "https://localhost:8080/"
        },
        "outputId": "312b3aeb-f651-4bde-f083-5da17470d1ef"
      },
      "execution_count": 1,
      "outputs": [
        {
          "output_type": "stream",
          "name": "stdout",
          "text": [
            "The element at the third index is: cherry\n"
          ]
        }
      ]
    },
    {
      "cell_type": "markdown",
      "source": [
        "Question-29"
      ],
      "metadata": {
        "id": "A19bLurD1Fnl"
      }
    },
    {
      "cell_type": "code",
      "source": [
        "dict1 = {\"name\": \"Alice\", \"age\": \"30\"}\n",
        "dict2 = {\"city\": \"New York\", \"occupation\": \"Engineer\"}\n",
        "\n",
        "# Method 1: Using update()\n",
        "combined_dict = {}\n",
        "combined_dict.update(dict1)\n",
        "combined_dict.update(dict2)\n",
        "\n",
        "# Method 2: Using ** operator (Python 3.5+)\n",
        "# Combined_dict = {**dict1, **dict2}\n",
        "\n",
        "print(combined_dict)\n",
        "\n",
        ""
      ],
      "metadata": {
        "colab": {
          "base_uri": "https://localhost:8080/"
        },
        "id": "C0VGNixS1IPz",
        "outputId": "13a2dfb1-c1a2-48d3-9c1e-bfcdabb6592f"
      },
      "execution_count": 3,
      "outputs": [
        {
          "output_type": "stream",
          "name": "stdout",
          "text": [
            "{'name': 'Alice', 'age': '30', 'city': 'New York', 'occupation': 'Engineer'}\n"
          ]
        }
      ]
    },
    {
      "cell_type": "markdown",
      "source": [
        "Question-30"
      ],
      "metadata": {
        "id": "8wo-vxxN4f6m"
      }
    },
    {
      "cell_type": "code",
      "source": [
        "my_list_of_strings = [\"apple\", \"banana\", \"cherry\", \"apple\", \"date\", \"banana\"]\n",
        "\n",
        "# Convert the list of strings into a set\n",
        "my_set_from_list = set(my_list_of_strings)\n",
        "\n",
        "print(\"Original list:\", my_list_of_strings)\n",
        "print(\"Converted set:\", my_set_from_list)"
      ],
      "metadata": {
        "colab": {
          "base_uri": "https://localhost:8080/"
        },
        "id": "ZmToQvDh4jv3",
        "outputId": "be996a1c-0969-4a20-9da1-4b21724ffe41"
      },
      "execution_count": 4,
      "outputs": [
        {
          "output_type": "stream",
          "name": "stdout",
          "text": [
            "Original list: ['apple', 'banana', 'cherry', 'apple', 'date', 'banana']\n",
            "Converted set: {'cherry', 'apple', 'date', 'banana'}\n"
          ]
        }
      ]
    },
    {
      "cell_type": "markdown",
      "source": [
        "                                                                           "
      ],
      "metadata": {
        "id": "U5iFYbuF6DaL"
      }
    }
  ]
}