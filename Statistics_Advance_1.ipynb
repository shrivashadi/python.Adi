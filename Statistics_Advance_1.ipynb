{
  "nbformat": 4,
  "nbformat_minor": 0,
  "metadata": {
    "colab": {
      "provenance": []
    },
    "kernelspec": {
      "name": "python3",
      "display_name": "Python 3"
    },
    "language_info": {
      "name": "python"
    }
  },
  "cells": [
    {
      "cell_type": "markdown",
      "source": [
        "# Q1. What is a random variable in probability theory?\n",
        "   -  A random variable is a numerical outcome of a random experiment. It assigns numerical values to different outcomes of a probability event. For example, when a dice is rolled, the result can be {1,2,3,4,5,6}, and each number is a possible value of the random variable. Random variables help in quantifying uncertainty and allow the use of probability distributions to model real-life situations. They are the foundation for statistical inference and decision-making under uncertainty."
      ],
      "metadata": {
        "id": "p991QYNBODBQ"
      }
    },
    {
      "cell_type": "markdown",
      "source": [
        "# Q2. What are the types of random variables?\n",
        "   -  There are mainly two types of random variables:\n",
        "\n",
        "      Discrete Random Variable – Takes only countable values (e.g., number of heads in coin tosses, dice outcomes).\n",
        "\n",
        "      Continuous Random Variable – Takes infinitely many values within a range (e.g., height, weight, time).\n",
        "      Discrete variables are modeled using probability mass functions (PMF), while continuous variables are modeled using probability density functions (PDF)."
      ],
      "metadata": {
        "id": "_g506FOtOQbn"
      }
    },
    {
      "cell_type": "markdown",
      "source": [
        "# Q3. Explain the difference between discrete and continuous distributions.\n",
        "   -  Discrete distribution deals with random variables that take specific, countable values. Examples include binomial and Poisson distributions.\n",
        "     Continuous distribution deals with random variables that can take any value within a continuous range. Examples include normal and exponential distributions.\n",
        "     The main difference is that discrete probabilities are assigned to exact values, while continuous probabilities are represented as areas under the probability density curve."
      ],
      "metadata": {
        "id": "LQsyvdErOi7W"
      }
    },
    {
      "cell_type": "markdown",
      "source": [
        "# Q4. What is a binomial distribution, and how is it used in probability?\n",
        "   -  The binomial distribution is a discrete probability distribution that models the number of successes in a fixed number of independent Bernoulli trials, each having the same probability of success. It is defined by two parameters: the number of trials (n) and the probability of success (p). For example, if a coin is flipped 10 times, the probability of getting exactly 6 heads can be computed using the binomial distribution. It is widely used in quality control, surveys, and experiments where outcomes are success/failure."
      ],
      "metadata": {
        "id": "SrqomEWJPMm5"
      }
    },
    {
      "cell_type": "markdown",
      "source": [
        "# Q5. What is the standard normal distribution, and why is it important?\n",
        "   -  The standard normal distribution is a special case of the normal distribution with a mean of 0 and a standard deviation of 1. It is represented by the bell-shaped curve symmetric about the mean. It is important because many real-world data approximate a normal distribution, and by standardizing data, we can compare values from different datasets. Statistical tests, confidence intervals, and hypothesis testing often rely on the standard normal distribution (Z-distribution)."
      ],
      "metadata": {
        "id": "OMLO2QwcPUC1"
      }
    },
    {
      "cell_type": "markdown",
      "source": [
        "# Q6. What is the Central Limit Theorem (CLT), and why is it critical in statistics?\n",
        "  -  The Central Limit Theorem states that when independent random samples of sufficiently large size are taken from any population, the sampling distribution of the sample mean will approximate a normal distribution, regardless of the population’s original distribution. CLT is critical because it allows statisticians to make inferences about population parameters using normal distribution-based methods. It is the foundation of confidence intervals, hypothesis testing, and many machine learning models."
      ],
      "metadata": {
        "id": "n2SfWB_XPamd"
      }
    },
    {
      "cell_type": "markdown",
      "source": [
        "# Q7. What is the significance of confidence intervals in statistical analysis?\n",
        "   -  A confidence interval (CI) gives a range of values that is likely to contain the true population parameter (like mean or proportion) with a specified level of confidence (e.g., 95%). It indicates both the estimate and its reliability. Wider intervals show more uncertainty, while narrower intervals show higher precision. Confidence intervals are important in research and business decisions because they not only provide estimates but also show the margin of error and the reliability of results."
      ],
      "metadata": {
        "id": "Hg0VA2UbPjJu"
      }
    },
    {
      "cell_type": "markdown",
      "source": [
        "# Q8. What is the concept of expected value in a probability distribution?\n",
        "   -  The expected value is the long-run average or mean value of a random variable if an experiment is repeated many times. For a discrete variable, it is calculated as the sum of each possible value multiplied by its probability. For continuous variables, it is the integral of x times its probability density. It is used in decision-making, risk management, and economics because it predicts the average outcome of uncertain events. For example, in rolling a fair dice, the expected value is (1+2+3+4+5+6)/6 = 3.5."
      ],
      "metadata": {
        "id": "04rsF-eSPqL9"
      }
    },
    {
      "cell_type": "markdown",
      "source": [
        "# Q9. Write a Python program to generate 1000 random numbers from a normal distribution with mean = 50 and standard deviation = 5. Compute the mean and standard deviation using NumPy, and draw a histogram to visualize the distribution.\n",
        "  -  A normal distribution is symmetric and bell-shaped. If we generate random numbers with mean = 50 and standard deviation = 5, the values will cluster around 50 with most values lying within ±3 standard deviations. Using NumPy, we can simulate random samples, then calculate their mean and standard deviation to see how close they are to the theoretical values. Finally, a histogram helps us visualize the distribution, confirming it resembles the normal curve."
      ],
      "metadata": {
        "id": "FGxkYUabQBJu"
      }
    },
    {
      "cell_type": "code",
      "source": [
        "import numpy as np\n",
        "import matplotlib.pyplot as plt\n",
        "\n",
        "# Generate 1000 random numbers from normal distribution\n",
        "data = np.random.normal(loc=50, scale=5, size=1000)\n",
        "\n",
        "# Compute mean and standard deviation\n",
        "mean_val = np.mean(data)\n",
        "std_val = np.std(data)\n",
        "\n",
        "print(\"Sample Mean:\", mean_val)\n",
        "print(\"Sample Standard Deviation:\", std_val)\n",
        "\n",
        "# Plot histogram\n",
        "plt.hist(data, bins=30, edgecolor='black', alpha=0.7)\n",
        "plt.title(\"Histogram of Normal Distribution (Mean=50, SD=5)\")\n",
        "plt.xlabel(\"Value\")\n",
        "plt.ylabel(\"Frequency\")\n",
        "plt.show()\n"
      ],
      "metadata": {
        "colab": {
          "base_uri": "https://localhost:8080/",
          "height": 508
        },
        "id": "uH2HzYIPQIRc",
        "outputId": "e46ce035-fd4e-4388-e1b1-50563d5ed417"
      },
      "execution_count": 1,
      "outputs": [
        {
          "output_type": "stream",
          "name": "stdout",
          "text": [
            "Sample Mean: 49.817519533267806\n",
            "Sample Standard Deviation: 4.942291471062279\n"
          ]
        },
        {
          "output_type": "display_data",
          "data": {
            "text/plain": [
              "<Figure size 640x480 with 1 Axes>"
            ],
            "image/png": "[encoded data removed]"
          },
          "metadata": {}
        }
      ]
    },
    {
      "cell_type": "markdown",
      "source": [
        "# Q10. Retail sales analysis using Central Limit Theorem & Confidence Interval\n",
        "\n",
        "     Given Data:\n",
        "     daily_sales = [230, 240, 245, 250, 235, 270, 280, 290, 265, 255, 250, 245]\n",
        "   - Here, we have sales data for 12 days. To estimate the average sales for the entire population (all days), we apply the Central Limit Theorem (CLT).\n",
        "CLT states that if we repeatedly take samples from this dataset, the sample means will follow an approximately normal distribution. Using this, we calculate a 95% confidence interval (CI), which gives us a range where the true mean of sales lies with 95% confidence. This helps managers predict future sales and make reliable business decisions."
      ],
      "metadata": {
        "id": "iPFvl-8gQQpA"
      }
    },
    {
      "cell_type": "code",
      "source": [
        "import numpy as np\n",
        "import scipy.stats as stats\n",
        "\n",
        "# Sales data\n",
        "daily_sales = np.array([230, 240, 245, 250, 235, 270, 280, 290, 265, 255, 250, 245])\n",
        "\n",
        "# Compute sample mean and standard error\n",
        "mean_sales = np.mean(daily_sales)\n",
        "std_error = stats.sem(daily_sales)\n",
        "\n",
        "# 95% Confidence Interval\n",
        "confidence_interval = stats.t.interval(0.95, len(daily_sales)-1, loc=mean_sales, scale=std_error)\n",
        "\n",
        "print(\"Mean Sales:\", mean_sales)\n",
        "print(\"95% Confidence Interval:\", confidence_interval)\n"
      ],
      "metadata": {
        "colab": {
          "base_uri": "https://localhost:8080/"
        },
        "id": "11l1oGWoQcMV",
        "outputId": "a1cb88f4-9219-43a0-8cf8-e9d2dc5bf8d6"
      },
      "execution_count": 2,
      "outputs": [
        {
          "output_type": "stream",
          "name": "stdout",
          "text": [
            "Mean Sales: 254.58333333333334\n",
            "95% Confidence Interval: (np.float64(242.97324066304054), np.float64(266.19342600362614))\n"
          ]
        }
      ]
    }
  ]
}