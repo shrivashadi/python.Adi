{
  "nbformat": 4,
  "nbformat_minor": 0,
  "metadata": {
    "colab": {
      "provenance": []
    },
    "kernelspec": {
      "name": "python3",
      "display_name": "Python 3"
    },
    "language_info": {
      "name": "python"
    }
  },
  "cells": [
    {
      "cell_type": "markdown",
      "source": [
        "# Python structure"
      ],
      "metadata": {
        "id": "_z1LYAe2AZ1M"
      }
    },
    {
      "cell_type": "markdown",
      "source": [
        "# TQ1:- What are data structures, and why are they important?\n",
        "       - Data structures are specialized formats for organizing, storing, and managing data in a computer so that it can be used efficiently.\n",
        "\n",
        "They are important because:\n",
        "\n",
        "✅ Efficient Access & Modification: Data structures help in organizing data in a way that makes it easier and faster to access, insert, delete, or update.\n",
        "\n",
        "✅ Optimized Memory Use: They allow programs to use memory wisely and avoid unnecessary duplication.\n",
        "\n",
        "✅ Problem Solving: Some algorithms require specific data structures (like stacks, queues, trees, graphs) to solve problems correctly and efficiently.\n",
        "\n",
        "✅ Code Reusability & Maintenance: Well-structured data improves readability and maintainability of code.\n",
        "\n",
        "Examples:\n",
        "\n",
        "List, Tuple, Set, Dictionary in Python\n",
        "\n",
        "Array, LinkedList, Stack, Queue, Tree, Graph in general"
      ],
      "metadata": {
        "id": "Bl6v6mK4AhPh"
      }
    },
    {
      "cell_type": "markdown",
      "source": [
        "#TQ2:- Explain the difference between mutable and immutable data types with examples\n",
        "      - In Python, data types are classified as:\n",
        "\n",
        "🔁 Mutable – can be changed after creation\n",
        "🔒 Immutable – cannot be changed after creation\n",
        "✅ Mutable Data Types:\n",
        "You can modify, add, or remove elements.\n",
        "\n",
        "Changes affect the original object.\n",
        "\n",
        "Examples:\n",
        "\n",
        "List, Set, Dictionary\n",
        "\n",
        "python\n",
        "Copy\n",
        "Edit\n",
        "my_list = [1, 2, 3]\n",
        "my_list.append(4)  # Now it becomes [1, 2, 3, 4]\n",
        "✅ Immutable Data Types:\n",
        "Cannot be changed after they are created.\n",
        "\n",
        "Any change creates a new object.\n",
        "\n",
        "Examples:\n",
        "\n",
        "int, float, string, tuple\n",
        "\n",
        "python\n",
        "Copy\n",
        "Edit\n",
        "my_string = \"hello\"\n",
        "my_string = my_string + \" world\"  # Creates a new string object\n",
        "Key Difference:\n",
        "\n",
        "Mutable = Changeable (modifies in place)\n",
        "\n",
        "Immutable = Fixed (any change creates a new object)"
      ],
      "metadata": {
        "id": "jl1XME5uA9kD"
      }
    },
    {
      "cell_type": "markdown",
      "source": [
        "#TQ3:- What are the main differences between lists and tuples in Python?\n",
        "      - Feature          \tList\t            Tuple\n",
        "      \n",
        "Mutability\t✅ Mutable (can be changed)\t🔒 Immutable (cannot be changed)\n",
        "Syntax\t[1, 2, 3] (square brackets)\t(1, 2, 3) (parentheses)\n",
        "Performance\tSlower due to mutability\tFaster due to immutability\n",
        "Use Cases\tWhen data may change\tWhen data should remain constant\n",
        "Methods Available\tMany built-in methods like .append(), .remove()\tVery few methods available\n",
        "Memory Usage\tUses slightly more memory\tMore memory-efficient"
      ],
      "metadata": {
        "id": "8pWU7Q5ABRjU"
      }
    },
    {
      "cell_type": "code",
      "execution_count": null,
      "metadata": {
        "id": "lamgNMt22Y1I"
      },
      "outputs": [],
      "source": [
        "# List\n",
        "my_list = [1, 2, 3]\n",
        "my_list.append(4)\n",
        "\n",
        "# Tuple\n",
        "my_tuple = (1, 2, 3)\n",
        "# my_tuple[0] = 10  ❌ Error: Tuples are immutable\n"
      ]
    },
    {
      "cell_type": "markdown",
      "source": [
        "#TQ4:-  Describe how dictionaries store data\n",
        "       - In Python, a dictionary stores data as key-value pairs inside curly braces {}.\n",
        "\n",
        ">How it works:-Python dictionaries use a hash table internally.\n",
        "\n",
        "Each key is hashed (converted to a unique number).\n",
        "\n",
        "This hash helps quickly find the value associated with a key — making lookup time O(1) (constant time on average).\n",
        "  > Characteristics:\n",
        "Unordered (before Python 3.7): No guaranteed order of items.\n",
        "\n",
        "Unique keys: Duplicate keys are not allowed.\n",
        "\n",
        "Fast access: You can retrieve values quickly using the key.\n",
        "\n"
      ],
      "metadata": {
        "id": "KWCIBTPNC9Ib"
      }
    },
    {
      "cell_type": "markdown",
      "source": [
        "#TQ5:- Why might you use a set instead of a list in Python?\n",
        "       -  1. You need unique values\n",
        "Sets automatically remove duplicates-\n",
        " my_set = {1, 2, 2, 3}\n",
        "print(my_set)  # Output: {1, 2, 3}\n",
        " 2. You want fast membership testing\n",
        "in is faster in sets (O(1)) vs lists (O(n))-\n",
        "5 in my_set  # Very fast in sets\n",
        "\n",
        "3. You need set operations\n",
        "Sets support mathematical operations like:\n",
        "\n",
        "union()\n",
        "\n",
        "intersection()\n",
        "\n",
        "difference()\n",
        "a = {1, 2, 3}\n",
        "b = {3, 4, 5}\n",
        "print(a & b)  # Output: {3}\n"
      ],
      "metadata": {
        "id": "snAMTvODNGsa"
      }
    },
    {
      "cell_type": "markdown",
      "source": [
        "#TQ6:- What is a string in Python, and how is it different from a list?\n",
        "      -  String in Python:\n",
        "A string is a sequence of characters enclosed in quotes (' ', \" \", or ''' ''').\n",
        "  Key Differences Between String and List:-\n",
        "  | Feature             | **String**             | **List**                           |\n",
        "| ------------------- | ---------------------- | ---------------------------------- |\n",
        "| **Data type**       | Sequence of characters | Sequence of any data types         |\n",
        "| **Mutable**         | ❌ Immutable            | ✅ Mutable                          |\n",
        "| **Elements**        | Only characters        | Can contain numbers, strings, etc. |\n",
        "| **Syntax**          | `\"hello\"`              | `['h', 'e', 'l', 'l', 'o']`        |\n",
        "| **Modifying items** | Not allowed            | Allowed                            |\n"
      ],
      "metadata": {
        "id": "9HSBB-uFNmCj"
      }
    },
    {
      "cell_type": "code",
      "source": [
        "# String (immutable)\n",
        "s = \"hello\"\n",
        "# s[0] = 'H' ❌ Error: strings are immutable\n",
        "\n",
        "# List (mutable)\n",
        "l = ['h', 'e', 'l', 'l', 'o']\n",
        "l[0] = 'H'  # ✅ Now l becomes ['H', 'e', 'l', 'l', 'o']\n"
      ],
      "metadata": {
        "id": "N6y0CFjON7bT"
      },
      "execution_count": null,
      "outputs": []
    },
    {
      "cell_type": "markdown",
      "source": [
        "#PQ7:- How do tuples ensure data integrity in Python?\n",
        "      -  Tuples are Immutable\n",
        "Once a tuple is created, its elements cannot be changed, added, or removed.\n",
        "\n",
        "my_tuple = (1, 2, 3)\n",
        "# my_tuple[0] = 10  ❌ Error: 'tuple' object does not support item assignment\n",
        " How This Ensures Data Integrity:\n",
        "Prevents accidental modifications to critical data.\n",
        "\n",
        "Useful when passing fixed data (like coordinates, configuration) that should remain constant.\n",
        "\n",
        "Helps maintain consistency and reliability in programs.\n",
        "\n",
        "user_info = (\"Aditya\", \"Male\", \"India\")  # fixed identity info\n"
      ],
      "metadata": {
        "id": "tIRgtqJlN-DZ"
      }
    },
    {
      "cell_type": "markdown",
      "source": [
        "#TQ8:-  What is a hash table, and how does it relate to dictionaries in Python?\n",
        "       - What is a Hash Table?\n",
        "A hash table is a data structure that stores data in key-value pairs using a hash function.\n",
        "\n",
        "It converts a key into a unique index (called a hash code).\n",
        "\n",
        "The value is stored at that index in memory.\n",
        "\n",
        "This allows for very fast lookup, insertion, and deletion — average time complexity is O(1).\n",
        "\n",
        " How It Relates to Dictionaries in Python:\n",
        "Python’s dict (dictionary) is implemented using a hash table.\n",
        "\n",
        "Keys in a dictionary are hashed to find the location of their associated value.\n",
        "my_dict = {\"name\": \"Aditya\", \"age\": 22}\n"
      ],
      "metadata": {
        "id": "vvYIyIjFPk7I"
      }
    },
    {
      "cell_type": "code",
      "source": [
        "student = {\"roll\": 101, \"name\": \"Ravi\"}\n",
        "print(student[\"name\"])  # Direct access using hashed key\n"
      ],
      "metadata": {
        "colab": {
          "base_uri": "https://localhost:8080/"
        },
        "id": "A4Y-ecrnUCxu",
        "outputId": "ddb45d1f-0ce3-4280-af4d-182e913c6b03"
      },
      "execution_count": null,
      "outputs": [
        {
          "output_type": "stream",
          "name": "stdout",
          "text": [
            "Ravi\n"
          ]
        }
      ]
    },
    {
      "cell_type": "markdown",
      "source": [
        "#TQ9:- Can lists contain different data types in Python?\n",
        "       - Examples of Mixed Data Types in a List:\n",
        "       mixed_list = [1, \"hello\", 3.14, True, [5, 6], {\"a\": 1}]\n",
        "       This list contains:\n",
        "\n",
        "An integer → 1\n",
        "\n",
        "A string → \"hello\"\n",
        "\n",
        "A float → 3.14\n",
        "\n",
        "A boolean → True\n",
        "\n",
        "A nested list → [5, 6]\n",
        "\n",
        "A dictionary → {\"a\": 1}\n",
        "\n",
        "Why It’s Possible:\n",
        "Python is dynamically typed, meaning variable types are flexible and decided at runtime.\n",
        "\n",
        "Lists are built to store references to objects, not fixed data types.\n",
        "\n",
        "Useful when you need a collection of different kinds of information together:\n",
        "\n",
        "person = [\"Aditya\", 22, True, [\"Python\", \"Java\"]]"
      ],
      "metadata": {
        "id": "7kGyGiyxMSwV"
      }
    },
    {
      "cell_type": "markdown",
      "source": [
        "#TQ10:- Explain why strings are immutable in Python\n",
        "        - Why Are Strings Immutable?\n",
        "Memory Efficiency:\n",
        "\n",
        "Immutable objects can be safely shared between parts of a program without unexpected changes.\n",
        "\n",
        "Hashing & Dictionary Keys:\n",
        "\n",
        "Strings can be used as keys in dictionaries only because they’re immutable and their hash value doesn’t change.\n",
        "\n",
        "Security & Reliability:\n",
        "\n",
        "Prevents accidental or malicious modification of critical text data.\n",
        "\n",
        " What Happens Internally:\n",
        "Python creates a new string object and assigns it to the same variable.\n",
        "\n"
      ],
      "metadata": {
        "id": "6bnvUBcmMy7R"
      }
    },
    {
      "cell_type": "code",
      "source": [
        "# Example\n",
        "s = \"hello\"\n",
        "s = s + \" world\"\n",
        "print(s)  # Output: \"hello world\"\n"
      ],
      "metadata": {
        "colab": {
          "base_uri": "https://localhost:8080/"
        },
        "id": "01uGmZTnNCHI",
        "outputId": "21369166-6ad4-41de-fc78-cde708684faf"
      },
      "execution_count": 1,
      "outputs": [
        {
          "output_type": "stream",
          "name": "stdout",
          "text": [
            "hello world\n"
          ]
        }
      ]
    },
    {
      "cell_type": "markdown",
      "source": [
        "#TQ11:- What advantages do dictionaries offer over lists for certain tasks?\n",
        "       - Dictionaries offer several key advantages over lists when you need to work with key-value pairs or perform fast lookups.\n",
        "\n",
        " 1. Faster Data Access\n",
        "Ditionaries provide O(1) time complexity for lookups using keys (thanks to hash tables).\n",
        "\n",
        "Lists require a linear search (O(n)) to find an element.\n",
        "\n",
        " 2. Key-Value Mapping\n",
        "Dictionaries allow mapping of meaningful keys to values (e.g., \"username\": \"aditya123\"), which is more readable and logical than using index numbers in lists.\n",
        "\n",
        "4. Ideal for Structured Data\n",
        "Suitable for JSON-like data, configurations, records, user profiles, etc.\n",
        "  | Feature      | **List**           | **Dictionary**  |\n",
        "| ------------ | ------------------ | --------------- |\n",
        "| Access by    | Index              | Key             |\n",
        "| Lookup speed | Slower (O(n))      | Faster (O(1))   |\n",
        "| Data format  | Ordered collection | Key-value pairs |\n",
        "| Readability  | Lower              | Higher          |\n"
      ],
      "metadata": {
        "id": "2kfqx0fpNH2h"
      }
    },
    {
      "cell_type": "code",
      "source": [
        "#Faster data access\n",
        "my_dict = {\"name\": \"Aditya\", \"age\": 22}\n",
        "print(my_dict[\"age\"])  # ✅ Fast direct access\n",
        "\n",
        "#3. No Need to Remember Index Positions\n",
        "# Dictionary\n",
        "student = {\"roll\": 101, \"name\": \"Ravi\"}\n",
        "\n",
        "# List (less readable)\n",
        "student_list = [101, \"Ravi\"]\n",
        "\n"
      ],
      "metadata": {
        "colab": {
          "base_uri": "https://localhost:8080/"
        },
        "id": "BOqc7DuWNgSo",
        "outputId": "3af0e632-c830-434e-fc36-7cb8540dafe5"
      },
      "execution_count": 2,
      "outputs": [
        {
          "output_type": "stream",
          "name": "stdout",
          "text": [
            "22\n"
          ]
        }
      ]
    },
    {
      "cell_type": "markdown",
      "source": [
        "#TQ12:- Describe a scenario where using a tuple would be preferable over a list\n",
        "       -  Scenario: Storing GPS Coordinates\n",
        "Suppose you're developing a location-tracking app and you want to store latitude and longitude of a place. These values should not change once defined:\n",
        "Using a tuple is better here than a list because:\n",
        "\n",
        "The data is fixed and should not be changed.\n",
        "\n",
        "Tuples are immutable, so it guarantees data integrity.\n",
        "\n",
        "Slightly faster and more memory-efficient than lists.\n",
        "\n",
        " Other Real-World Examples:\n",
        "Database records – Each row returned from a database query can be stored as a tuple.\n",
        "\n",
        "Function return values – When returning multiple fixed values.\n",
        "\n",
        "Dictionaries keys – Only immutable types (like tuples) can be used as dictionary keys.\n",
        "\n",
        "python\n",
        "Copy\n",
        "Edit\n"
      ],
      "metadata": {
        "id": "o-Z5pPUUN0eb"
      }
    },
    {
      "cell_type": "code",
      "source": [
        "location = (28.6139, 77.2090)  # Tuple for Delhi coordinates\n",
        "\n",
        "#Other Real-World Examples:\n",
        "coordinates_map = {\n",
        "    (28.6139, 77.2090): \"Delhi\",\n",
        "    (19.0760, 72.8777): \"Mumbai\"\n",
        "}\n"
      ],
      "metadata": {
        "id": "cqKCgNhtOCcg"
      },
      "execution_count": 4,
      "outputs": []
    },
    {
      "cell_type": "markdown",
      "source": [
        "#TQ13:-How do sets handle duplicate values in Python?\n",
        "       - ets Automatically Remove Duplicates\n",
        "In Python, a set is an unordered collection of unique elements.\n",
        "When you add duplicate values to a set, only one copy is kept.\n",
        "\n",
        " Example:my_set = {1, 2, 2, 3, 3, 3}\n",
        "print(my_set)  # Output: {1, 2, 3}\n",
        " Why This Happens:\n",
        "Sets are implemented using hash tables, where each element must be unique.\n",
        "\n",
        "If a duplicate hash already exists, the new value is ignored.\n",
        "\n",
        " Use Case:\n",
        "Removing duplicates from a list:"
      ],
      "metadata": {
        "id": "7j0r3l-GN0dI"
      }
    },
    {
      "cell_type": "code",
      "source": [
        "my_list = [1, 2, 2, 3, 4, 4]\n",
        "unique = set(my_list)\n",
        "print(unique)  # Output: {1, 2, 3, 4}\n"
      ],
      "metadata": {
        "colab": {
          "base_uri": "https://localhost:8080/"
        },
        "id": "4dXg3bIrO5nH",
        "outputId": "99a71c85-2954-49bc-8e36-bd901cb9543d"
      },
      "execution_count": 5,
      "outputs": [
        {
          "output_type": "stream",
          "name": "stdout",
          "text": [
            "{1, 2, 3, 4}\n"
          ]
        }
      ]
    },
    {
      "cell_type": "markdown",
      "source": [
        "#TQ14:- How does the “in” keyword work differently for lists and dictionaries?\n",
        "      - In Lists:\n",
        "The in keyword checks whether a value exists in the list.\n",
        "\n",
        "my_list = [10, 20, 30]\n",
        "print(20 in my_list)  # ✅ True — checks values\n",
        " Summary Table:\n",
        " | Structure      | `in` checks for... | Example                | Output |\n",
        "| -------------- | ------------------ | ---------------------- | ------ |\n",
        "| **List**       | Value              | `10 in [10, 20]`       | `True` |\n",
        "| **Dictionary** | Key                | `\"age\" in {\"age\": 22}` | `True` |\n"
      ],
      "metadata": {
        "id": "C_ek8yZ6O77q"
      }
    },
    {
      "cell_type": "code",
      "source": [
        "#In Lists:\n",
        "my_list = [10, 20, 30]\n",
        "print(20 in my_list)  # ✅ True — checks values\n",
        "\n",
        "#In Dictionaries\n",
        "my_dict = {\"name\": \"Aditya\", \"age\": 22}\n",
        "print(\"name\" in my_dict)  # ✅ True — checks for key\n",
        "print(\"Aditya\" in my_dict)  # ❌ False — \"Aditya\" is a value\n"
      ],
      "metadata": {
        "colab": {
          "base_uri": "https://localhost:8080/"
        },
        "id": "P7kSvtTTPWAR",
        "outputId": "2cdf4344-d098-4484-cbb0-beec3cf08b0c"
      },
      "execution_count": 6,
      "outputs": [
        {
          "output_type": "stream",
          "name": "stdout",
          "text": [
            "True\n",
            "True\n",
            "False\n"
          ]
        }
      ]
    },
    {
      "cell_type": "markdown",
      "source": [
        "#TQ15:- Can you modify the elements of a tuple? Explain why or why not.\n",
        "       - No, you cannot modify the elements of a tuple.\n",
        "Tuples in Python are immutable, meaning:\n",
        "\n",
        "Once created, their elements cannot be changed, added, or removed.\n",
        "\n",
        "Why Tuples Are Immutable:\n",
        "Data Safety – Protects constant data from accidental changes.\n",
        "\n",
        "Hashable – Tuples can be used as keys in dictionaries (lists can't).\n",
        "\n",
        "Performance – Tuples are faster and more memory-efficient than lists.\n",
        "\n",
        " Exception:\n",
        "If a tuple contains a mutable object (like a list), the mutable object inside can be modified — but the tuple structure itself still can't be changed."
      ],
      "metadata": {
        "id": "IhmLI-bcPk4z"
      }
    },
    {
      "cell_type": "code",
      "source": [
        "# Example:\n",
        "my_tuple = (1, 2, 3)\n",
        "# my_tuple[0] = 10  ❌ Error: 'tuple' object does not support item assignment\n",
        "\n",
        "#Exception:\n",
        "t = ([1, 2], 3)\n",
        "t[0].append(4)  # ✅ Allowed\n",
        "print(t)  # Output: ([1, 2, 4], 3)\n"
      ],
      "metadata": {
        "colab": {
          "base_uri": "https://localhost:8080/"
        },
        "id": "4cBuUC4qQDV3",
        "outputId": "2be42b2f-5f3a-4977-df3f-fbd8d0650961"
      },
      "execution_count": 7,
      "outputs": [
        {
          "output_type": "stream",
          "name": "stdout",
          "text": [
            "([1, 2, 4], 3)\n"
          ]
        }
      ]
    },
    {
      "cell_type": "markdown",
      "source": [
        "#TQ16:-What is a nested dictionary, and give an example of its use case\n",
        "       - What is a Nested Dictionary?\n",
        "A nested dictionary is a dictionary inside another dictionary.\n",
        "\n",
        "It allows storing hierarchical or structured data, like multiple records or grouped information.\n",
        "Use Case:\n",
        "✅ Nested dictionaries are used when:\n",
        "\n",
        "You store data about multiple entities, like:\n",
        "\n",
        "Student records\n",
        "\n",
        "Product catalogues\n",
        "\n",
        "API responses (e.g., JSON)\n",
        "\n",
        "Config settings\n",
        "\n"
      ],
      "metadata": {
        "id": "ik2WPqg9QT6R"
      }
    },
    {
      "cell_type": "code",
      "source": [
        "# Example:\n",
        "student = {\n",
        "    \"name\": \"Aditya\",\n",
        "    \"marks\": {\n",
        "        \"math\": 85,\n",
        "        \"science\": 90\n",
        "    },\n",
        "    \"address\": {\n",
        "        \"city\": \"Delhi\",\n",
        "        \"pin\": 110001\n",
        "    }\n",
        "}\n",
        "\n"
      ],
      "metadata": {
        "id": "bJVAGVd0QgXQ"
      },
      "execution_count": 11,
      "outputs": []
    },
    {
      "cell_type": "markdown",
      "source": [
        "#TQ17:- Describe the time complexity of accessing elements in a dictionary\n",
        "        -  Average Time Complexity: O(1)\n",
        "Accessing an element in a Python dictionary using a key is very fast — constant time, on average.\n",
        " Worst-Case Time Complexity: O(n)\n",
        "In rare cases (like hash collisions), access time can degrade to O(n).\n",
        "But this is uncommon due to Python’s efficient hash functions and internal handling.\n",
        " | Operation        | Average Time | Worst Time |\n",
        "| ---------------- | ------------ | ---------- |\n",
        "| Access by key    | O(1)         | O(n)       |\n",
        "| Insertion/Update | O(1)         | O(n)       |\n",
        "| Deletion by key  | O(1)         | O(n)       |\n",
        "hy It's Fast:\n",
        "Keys are hashed, and the hash maps directly to a memory index.\n",
        "\n",
        "This avoids searching through all elements like in a list.\n",
        "\n"
      ],
      "metadata": {
        "id": "-E4TxqttRG_J"
      }
    },
    {
      "cell_type": "markdown",
      "source": [
        "#TQ18:-In what situations are lists preferred over dictionaries?\n",
        "        Use lists when:\n",
        "✅ 1. Order Matters\n",
        "Lists preserve insertion order and support indexing (list[0]).\n",
        "\n",
        "✅ 2. Sequential Data Without Labels\n",
        "When you just need to store a sequence of values, not key-value pairs.\n",
        "\n",
        "✅ 3. Iteration by Position\n",
        "When looping through items by index is useful\n",
        "\n",
        "✅ 4. Duplicates Are Allowed\n",
        "Lists can store repeating values, unlike sets.\n",
        "\n",
        "✅ 5. Simplicity\n",
        "When no additional structure is needed (e.g., storing 5 test scores).\n",
        "\n",
        "| Situation                               | Use List |\n",
        "| --------------------------------------- | -------- |\n",
        "| Data has **no keys**, just values       | ✅ Yes    |\n",
        "| You need **ordered** data               | ✅ Yes    |\n",
        "| You allow **duplicates**                | ✅ Yes    |\n",
        "| You access data **by position (index)** | ✅ Yes    |\n",
        "| You prefer **simplicity**               | ✅ Yes    |\n"
      ],
      "metadata": {
        "id": "LDFaOmKnRut4"
      }
    },
    {
      "cell_type": "code",
      "source": [
        "# Order Matters\n",
        "fruits = [\"apple\", \"banana\", \"cherry\"]\n",
        "print(fruits[1])  # Output: banana\n",
        "\n",
        "#Sequential Data Without Labels\n",
        "temperatures = [30, 32, 31, 29]\n",
        "\n",
        "#Iteration by Position\n",
        "for i in range(len(fruits)):\n",
        "    print(fruits[i])\n",
        "\n",
        "# Duplicates Are Allowed\n",
        "[1, 2, 2, 3]  # ✅ Valid\n"
      ],
      "metadata": {
        "colab": {
          "base_uri": "https://localhost:8080/"
        },
        "id": "t7E0V_T0SS80",
        "outputId": "4cffcfa4-3bfc-4a6b-a3b5-a0a8828901ec"
      },
      "execution_count": 12,
      "outputs": [
        {
          "output_type": "stream",
          "name": "stdout",
          "text": [
            "banana\n",
            "apple\n",
            "banana\n",
            "cherry\n"
          ]
        },
        {
          "output_type": "execute_result",
          "data": {
            "text/plain": [
              "[1, 2, 2, 3]"
            ]
          },
          "metadata": {},
          "execution_count": 12
        }
      ]
    },
    {
      "cell_type": "markdown",
      "source": [
        "#TQ19:-hy are dictionaries considered unordered, and how does that affect data retrieval?\n",
        "     -hy are dictionaries considered unordered, and how does that affect data retrieval?\n",
        "      Why Dictionaries Are Considered Unordered (Before Python 3.7)\n",
        "In earlier versions of Python (before 3.7), dictionaries did not guarantee the order of items.\n",
        "\n",
        "They were implemented using hash tables, and the key-value pairs were stored based on hash values, not insertion order.\n",
        "\n",
        " From Python 3.7+, Dictionaries Preserve Insertion Order\n",
        "Dictionaries now maintain the order in which keys are added.\n",
        " How This Affects Data Retrieval:\n",
        "✅ You access values by key, not position.\n",
        "\n",
        "python\n",
        "Copy\n",
        "Edit\n",
        "print(d[\"b\"])  # Output: 2\n",
        "❌ You can't rely on index-based access like d[0].\n",
        "\n",
        "⚠️ You shouldn't use order-based logic when writing cross-version compatible code.\n",
        "\n",
        " Summary:\n",
        "Aspect\tDictionary\n",
        "Order guaranteed?\t✅ From Python 3.7 onward\n",
        "Access method\tBy key (not index)\n",
        "Position-based retrieval\t❌ Not supported"
      ],
      "metadata": {
        "id": "cBXDYy-JSSFJ"
      }
    },
    {
      "cell_type": "markdown",
      "source": [
        "#TQ20:- Explain the difference between a list and a dictionary in terms of data retrieval\n",
        "       - 1. Retrieval by Index vs Key\n",
        "| Feature       | **List**                       | **Dictionary**                    |\n",
        "| ------------- | ------------------------------ | --------------------------------- |\n",
        "| Access Method | By **index** (e.g., `list[0]`) | By **key** (e.g., `dict[\"name\"]`) |\n",
        "| Example       | `fruits[1] → 'banana'`         | `student[\"age\"] → 22`             |\n",
        "\n",
        "🔹 2. Type of Data Stored\n",
        "List: Ordered collection of items (e.g., [10, 20, 30])\n",
        "\n",
        "Dictionary: Unordered (pre-3.7) or ordered (3.7+) mapping of keys to values (e.g., {\"name\": \"Aditya\"})\n",
        "\n",
        "🔹 3. Use Case\n",
        "Use a list when you just need a sequence of values.\n",
        "\n",
        "Use a dictionary when you want to label your data for fast and meaningful retrieval."
      ],
      "metadata": {
        "id": "mcx8f2cETYSa"
      }
    },
    {
      "cell_type": "code",
      "source": [
        "# List\n",
        "marks = [85, 90, 75]\n",
        "print(marks[1])  # Output: 90\n",
        "\n",
        "# Dictionary\n",
        "student = {\"math\": 85, \"science\": 90, \"english\": 75}\n",
        "print(student[\"science\"])  # Output: 90\n"
      ],
      "metadata": {
        "colab": {
          "base_uri": "https://localhost:8080/"
        },
        "id": "RePB6g2lTrE4",
        "outputId": "f1c2edc5-74ba-4588-96e5-db4defb4d0b9"
      },
      "execution_count": 13,
      "outputs": [
        {
          "output_type": "stream",
          "name": "stdout",
          "text": [
            "90\n",
            "90\n"
          ]
        }
      ]
    },
    {
      "cell_type": "markdown",
      "source": [
        "#Practicle Question:-"
      ],
      "metadata": {
        "id": "97ZFJnEkTtYy"
      }
    },
    {
      "cell_type": "markdown",
      "source": [
        "#String-Based"
      ],
      "metadata": {
        "id": "eiL4m2QnT13A"
      }
    },
    {
      "cell_type": "markdown",
      "source": [
        "#PQ1. Write a code to create a string with your name and print it"
      ],
      "metadata": {
        "id": "1urKkK2XUSUo"
      }
    },
    {
      "cell_type": "code",
      "source": [
        "name = \"Aditya Sen\"\n",
        "print(name)\n"
      ],
      "metadata": {
        "colab": {
          "base_uri": "https://localhost:8080/"
        },
        "id": "44xxDJ8SUXrV",
        "outputId": "339bc9fe-eb89-4c61-ae7e-42f039528d44"
      },
      "execution_count": 14,
      "outputs": [
        {
          "output_type": "stream",
          "name": "stdout",
          "text": [
            "Aditya Sen\n"
          ]
        }
      ]
    },
    {
      "cell_type": "markdown",
      "source": [
        "PQ2:- PQ2. Find the length of the string \"Hello World\""
      ],
      "metadata": {
        "id": "DGaONxdGUjxK"
      }
    },
    {
      "cell_type": "code",
      "source": [
        "text = \"Hello World\"\n",
        "print(len(text))  # Output: 11\n"
      ],
      "metadata": {
        "colab": {
          "base_uri": "https://localhost:8080/"
        },
        "id": "MqLMIV-CUXo7",
        "outputId": "8ccecfe3-79e9-436a-8027-4c4be8d5becc"
      },
      "execution_count": 16,
      "outputs": [
        {
          "output_type": "stream",
          "name": "stdout",
          "text": [
            "11\n"
          ]
        }
      ]
    },
    {
      "cell_type": "markdown",
      "source": [
        "#PQ3. Slice the first 3 characters from the string \"Python Programming\""
      ],
      "metadata": {
        "id": "g-gTzck2UqqJ"
      }
    },
    {
      "cell_type": "code",
      "source": [
        "sentence = \"Python Programming\"\n",
        "sliced = sentence[:3]\n",
        "print(sliced)  # Output: Pyt\n"
      ],
      "metadata": {
        "colab": {
          "base_uri": "https://localhost:8080/"
        },
        "id": "JxE4i7nCU5So",
        "outputId": "87419aa3-f312-4c26-90e0-7d75aca9cc63"
      },
      "execution_count": 15,
      "outputs": [
        {
          "output_type": "stream",
          "name": "stdout",
          "text": [
            "Pyt\n"
          ]
        }
      ]
    },
    {
      "cell_type": "markdown",
      "source": [
        "#PQ4. Convert the string \"hello\" to uppercase"
      ],
      "metadata": {
        "id": "dKUnQkXUU8PJ"
      }
    },
    {
      "cell_type": "code",
      "source": [
        "text = \"hello\"\n",
        "uppercase_text = text.upper()\n",
        "print(uppercase_text)  # Output: HELLO\n"
      ],
      "metadata": {
        "colab": {
          "base_uri": "https://localhost:8080/"
        },
        "id": "qHe1JIq-VAMA",
        "outputId": "cbed2b9f-05b7-4f7f-bfd7-08197228a692"
      },
      "execution_count": 18,
      "outputs": [
        {
          "output_type": "stream",
          "name": "stdout",
          "text": [
            "HELLO\n"
          ]
        }
      ]
    },
    {
      "cell_type": "markdown",
      "source": [
        "#PQ5. Replace the word \"apple\" with \"orange\" in the string \"I like apple\""
      ],
      "metadata": {
        "id": "M_ZOL_FUVEWQ"
      }
    },
    {
      "cell_type": "code",
      "source": [
        "sentence = \"I like apple\"\n",
        "new_sentence = sentence.replace(\"apple\", \"orange\")\n",
        "print(new_sentence)  # Output: I like orange\n"
      ],
      "metadata": {
        "colab": {
          "base_uri": "https://localhost:8080/"
        },
        "id": "ODc-L6pwVHoX",
        "outputId": "6219d24a-fc3c-4af1-a314-17c9c8835b53"
      },
      "execution_count": 17,
      "outputs": [
        {
          "output_type": "stream",
          "name": "stdout",
          "text": [
            "I like orange\n"
          ]
        }
      ]
    },
    {
      "cell_type": "markdown",
      "source": [
        "# List-Based:-"
      ],
      "metadata": {
        "id": "o5rNAMLAVL0I"
      }
    },
    {
      "cell_type": "markdown",
      "source": [
        "#PQ6. Create a list with numbers 1 to 5 and print it"
      ],
      "metadata": {
        "id": "89W6Wr74VTaJ"
      }
    },
    {
      "cell_type": "code",
      "source": [
        "numbers = [1, 2, 3, 4, 5]\n",
        "print(numbers)\n"
      ],
      "metadata": {
        "id": "STZ8JcD0Vdo_"
      },
      "execution_count": null,
      "outputs": []
    },
    {
      "cell_type": "markdown",
      "source": [
        "# PQ7. Append the number 10 to the list [1, 2, 3, 4]"
      ],
      "metadata": {
        "id": "_t7b_ocrVgUh"
      }
    },
    {
      "cell_type": "code",
      "source": [
        "my_list = [1, 2, 3, 4]\n",
        "my_list.append(10)\n",
        "print(my_list)  # Output: [1, 2, 3, 4, 10]\n"
      ],
      "metadata": {
        "id": "xYJ96lhpVkQX"
      },
      "execution_count": null,
      "outputs": []
    },
    {
      "cell_type": "markdown",
      "source": [
        "# PQ8. Remove the number 3 from the list [1, 2, 3, 4, 5]"
      ],
      "metadata": {
        "id": "_LAL1xfmVgSy"
      }
    },
    {
      "cell_type": "code",
      "source": [
        "nums = [1, 2, 3, 4, 5]\n",
        "nums.remove(3)\n",
        "print(nums)  # Output: [1, 2, 4, 5]\n"
      ],
      "metadata": {
        "id": "aTi6QQ_8Vr6S"
      },
      "execution_count": null,
      "outputs": []
    },
    {
      "cell_type": "markdown",
      "source": [
        "# PQ9. Access the second element in the list ['a', 'b', 'c', 'd']"
      ],
      "metadata": {
        "id": "RfSDBdn1VuTE"
      }
    },
    {
      "cell_type": "code",
      "source": [
        "letters = ['a', 'b', 'c', 'd']\n",
        "print(letters[1])  # Output: b\n"
      ],
      "metadata": {
        "id": "ylN8yCA5V0Xa"
      },
      "execution_count": null,
      "outputs": []
    },
    {
      "cell_type": "markdown",
      "source": [
        "# PQ10. Reverse the list [10, 20, 30, 40, 50]"
      ],
      "metadata": {
        "id": "yhCI6fj_VzYB"
      }
    },
    {
      "cell_type": "code",
      "source": [
        "items = [10, 20, 30, 40, 50]\n",
        "items.reverse()\n",
        "print(items)  # Output: [50, 40, 30, 20, 10]\n"
      ],
      "metadata": {
        "colab": {
          "base_uri": "https://localhost:8080/"
        },
        "id": "lmN-aGufV8Op",
        "outputId": "80147204-94a3-4f26-bad3-8f6efb8cc9ff"
      },
      "execution_count": 19,
      "outputs": [
        {
          "output_type": "stream",
          "name": "stdout",
          "text": [
            "[50, 40, 30, 20, 10]\n"
          ]
        }
      ]
    },
    {
      "cell_type": "markdown",
      "source": [
        "#Tuple-Based:-"
      ],
      "metadata": {
        "id": "GvoasINwVuQv"
      }
    },
    {
      "cell_type": "markdown",
      "source": [
        "#PQ11. Create a tuple with the elements 100, 200, 300 and print it"
      ],
      "metadata": {
        "id": "1kukqQ00WTLD"
      }
    },
    {
      "cell_type": "code",
      "source": [
        "my_tuple = (100, 200, 300)\n",
        "print(my_tuple)\n"
      ],
      "metadata": {
        "colab": {
          "base_uri": "https://localhost:8080/"
        },
        "id": "je6uAe2-WU_b",
        "outputId": "7703039d-eeed-4db1-f145-a102e6b0281f"
      },
      "execution_count": 20,
      "outputs": [
        {
          "output_type": "stream",
          "name": "stdout",
          "text": [
            "(100, 200, 300)\n"
          ]
        }
      ]
    },
    {
      "cell_type": "markdown",
      "source": [
        "# PQ12. Access the second-to-last element of the tuple ('red', 'green', 'blue', 'yellow')"
      ],
      "metadata": {
        "id": "MdOm_o7QWbC4"
      }
    },
    {
      "cell_type": "code",
      "source": [
        "colors = ('red', 'green', 'blue', 'yellow')\n",
        "print(colors[-2])  # Output: blue\n"
      ],
      "metadata": {
        "id": "MvALEysUWftI"
      },
      "execution_count": null,
      "outputs": []
    },
    {
      "cell_type": "markdown",
      "source": [
        "#PQ13. Find the minimum number in the tuple (10, 20, 5, 15)"
      ],
      "metadata": {
        "id": "7y658YPJWiru"
      }
    },
    {
      "cell_type": "code",
      "source": [
        "numbers = (10, 20, 5, 15)\n",
        "print(min(numbers))  # Output: 5\n"
      ],
      "metadata": {
        "id": "e3yCwa7AWl-a"
      },
      "execution_count": null,
      "outputs": []
    },
    {
      "cell_type": "markdown",
      "source": [
        "# PQ14. Find the index of the element \"cat\" in the tuple ('dog', 'cat', 'rabbit')"
      ],
      "metadata": {
        "id": "4Ql67tCsWio0"
      }
    },
    {
      "cell_type": "code",
      "source": [
        "animals = ('dog', 'cat', 'rabbit')\n",
        "index = animals.index(\"cat\")\n",
        "print(index)  # Output: 1\n"
      ],
      "metadata": {
        "id": "9VHRrHlGWxX5"
      },
      "execution_count": null,
      "outputs": []
    },
    {
      "cell_type": "markdown",
      "source": [
        "#PQ15. Create a tuple containing three different fruits and check if \"kiwi\" is in it"
      ],
      "metadata": {
        "id": "RT6dCjqlWz7e"
      }
    },
    {
      "cell_type": "code",
      "source": [
        "fruits = (\"apple\", \"banana\", \"kiwi\")\n",
        "print(\"kiwi\" in fruits)  # Output: True\n"
      ],
      "metadata": {
        "id": "6f2YRAubW53y"
      },
      "execution_count": null,
      "outputs": []
    },
    {
      "cell_type": "markdown",
      "source": [
        "# Set-Based:-"
      ],
      "metadata": {
        "id": "7TFH7SaPWz5B"
      }
    },
    {
      "cell_type": "markdown",
      "source": [
        "#PQ16. Create a set with the elements 'a', 'b', 'c' and print it"
      ],
      "metadata": {
        "id": "OyCfLfXmXJEj"
      }
    },
    {
      "cell_type": "code",
      "source": [
        "my_set = {'a', 'b', 'c'}\n",
        "print(my_set)  # Output: {'a', 'b', 'c'} (order may vary)\n"
      ],
      "metadata": {
        "id": "hI4BTR1sXeOP"
      },
      "execution_count": null,
      "outputs": []
    },
    {
      "cell_type": "markdown",
      "source": [
        "#PQ17. Clear all elements from the set {1, 2, 3, 4, 5}"
      ],
      "metadata": {
        "id": "RrLaqoDDXgwV"
      }
    },
    {
      "cell_type": "code",
      "source": [
        "numbers = {1, 2, 3, 4, 5}\n",
        "numbers.clear()\n",
        "print(numbers)  # Output: set()\n"
      ],
      "metadata": {
        "id": "fFe3WkrOXkY4"
      },
      "execution_count": null,
      "outputs": []
    },
    {
      "cell_type": "markdown",
      "source": [
        "# PQ18. Remove the element 4 from the set {1, 2, 3, 4}\n"
      ],
      "metadata": {
        "id": "dkGwvJByXguc"
      }
    },
    {
      "cell_type": "code",
      "source": [
        "my_set = {1, 2, 3, 4}\n",
        "my_set.remove(4)\n",
        "print(my_set)  # Output: {1, 2, 3}\n"
      ],
      "metadata": {
        "id": "E4G9jOaVXql4"
      },
      "execution_count": null,
      "outputs": []
    },
    {
      "cell_type": "markdown",
      "source": [
        "#PQ19. Find the union of two sets {1, 2, 3} and {3, 4, 5}\n"
      ],
      "metadata": {
        "id": "yPs1NQZhX1uJ"
      }
    },
    {
      "cell_type": "code",
      "source": [
        "set1 = {1, 2, 3}\n",
        "set2 = {3, 4, 5}\n",
        "union_set = set1.union(set2)\n",
        "print(union_set)  # Output: {1, 2, 3, 4, 5}\n"
      ],
      "metadata": {
        "id": "NU1O5-UiX6xA"
      },
      "execution_count": null,
      "outputs": []
    },
    {
      "cell_type": "markdown",
      "source": [
        "# PQ20. Find the intersection of two sets {1, 2, 3} and {2, 3, 4}"
      ],
      "metadata": {
        "id": "Ga7Q2Q3hX9L6"
      }
    },
    {
      "cell_type": "code",
      "source": [
        "set1 = {1, 2, 3}\n",
        "set2 = {2, 3, 4}\n",
        "intersection = set1.intersection(set2)\n",
        "print(intersection)  # Output: {2, 3}\n"
      ],
      "metadata": {
        "colab": {
          "base_uri": "https://localhost:8080/"
        },
        "id": "BkgIe8pDYBu4",
        "outputId": "4b043ad0-257d-4f35-b4d2-0b124cd73e2a"
      },
      "execution_count": 21,
      "outputs": [
        {
          "metadata": {
            "tags": null
          },
          "name": "stdout",
          "output_type": "stream",
          "text": [
            "{2, 3}\n"
          ]
        }
      ]
    },
    {
      "cell_type": "markdown",
      "source": [
        "# PQ21. Create a dictionary with the keys \"name\", \"age\", and \"city\", and print it"
      ],
      "metadata": {
        "id": "Sv1ADoFaY6jF"
      }
    },
    {
      "cell_type": "code",
      "source": [
        "person = {\n",
        "    \"name\": \"Aditya\",\n",
        "    \"age\": 22,\n",
        "    \"city\": \"Kolkata\"\n",
        "}\n",
        "print(person)\n"
      ],
      "metadata": {
        "colab": {
          "base_uri": "https://localhost:8080/"
        },
        "id": "DMEKDePdY8Oo",
        "outputId": "c1a3dff5-e349-48c8-e7de-0b7addb17229"
      },
      "execution_count": 22,
      "outputs": [
        {
          "output_type": "stream",
          "name": "stdout",
          "text": [
            "{'name': 'Aditya', 'age': 22, 'city': 'Kolkata'}\n"
          ]
        }
      ]
    },
    {
      "cell_type": "markdown",
      "source": [
        "# PQ22. Add a new key-value pair \"country\": \"USA\" to the dictionary {'name': 'John', 'age': 25}"
      ],
      "metadata": {
        "id": "pb5nK0a5Y_C4"
      }
    },
    {
      "cell_type": "code",
      "source": [
        "person = {'name': 'John', 'age': 25}\n",
        "person[\"country\"] = \"USA\"\n",
        "print(person)  # Output: {'name': 'John', 'age': 25, 'country': 'USA'}\n"
      ],
      "metadata": {
        "colab": {
          "base_uri": "https://localhost:8080/"
        },
        "id": "7RcpIE5EZCCw",
        "outputId": "67229587-43c3-4301-a262-fdaaf5c8becb"
      },
      "execution_count": 23,
      "outputs": [
        {
          "output_type": "stream",
          "name": "stdout",
          "text": [
            "{'name': 'John', 'age': 25, 'country': 'USA'}\n"
          ]
        }
      ]
    },
    {
      "cell_type": "markdown",
      "source": [
        "#Q23. Access the value associated with the key \"name\" in the dictionary {'name': 'Alice', 'age': 30}"
      ],
      "metadata": {
        "id": "KuYFdarFZEq8"
      }
    },
    {
      "cell_type": "code",
      "source": [
        "info = {'name': 'Alice', 'age': 30}\n",
        "print(info[\"name\"])  # Output: Alice\n"
      ],
      "metadata": {
        "colab": {
          "base_uri": "https://localhost:8080/"
        },
        "id": "Ig8lBsvCZIRh",
        "outputId": "cb58468e-9e7f-4c9d-90ff-b45912a2ea7a"
      },
      "execution_count": 24,
      "outputs": [
        {
          "output_type": "stream",
          "name": "stdout",
          "text": [
            "Alice\n"
          ]
        }
      ]
    },
    {
      "cell_type": "markdown",
      "source": [
        "#PQ24. Remove the key \"age\" from the dictionary {'name': 'Bob', 'age': 22, 'city': 'New York'}"
      ],
      "metadata": {
        "id": "7I1hVnLGZQZ4"
      }
    },
    {
      "cell_type": "code",
      "source": [
        "profile = {'name': 'Bob', 'age': 22, 'city': 'New York'}\n",
        "profile.pop(\"age\")\n",
        "print(profile)  # Output: {'name': 'Bob', 'city': 'New York'}\n"
      ],
      "metadata": {
        "colab": {
          "base_uri": "https://localhost:8080/"
        },
        "id": "44sbzPY2ZK5h",
        "outputId": "0267a02a-3cf1-4146-f72f-1140e028e5ef"
      },
      "execution_count": 25,
      "outputs": [
        {
          "output_type": "stream",
          "name": "stdout",
          "text": [
            "{'name': 'Bob', 'city': 'New York'}\n"
          ]
        }
      ]
    },
    {
      "cell_type": "markdown",
      "source": [
        "#PQ25. Check if the key \"city\" exists in the dictionary {'name': 'Alice', 'city': 'Paris'}"
      ],
      "metadata": {
        "id": "EuviexUdZYGM"
      }
    },
    {
      "cell_type": "code",
      "source": [
        "data = {'name': 'Alice', 'city': 'Paris'}\n",
        "print(\"city\" in data)  # Output: True\n"
      ],
      "metadata": {
        "colab": {
          "base_uri": "https://localhost:8080/"
        },
        "id": "01iDMCh2ZbMQ",
        "outputId": "3f629167-443b-4953-a294-2659fabf4ea2"
      },
      "execution_count": 26,
      "outputs": [
        {
          "output_type": "stream",
          "name": "stdout",
          "text": [
            "True\n"
          ]
        }
      ]
    },
    {
      "cell_type": "markdown",
      "source": [
        "#Mixed-Advance:-"
      ],
      "metadata": {
        "id": "a1xJ6QTXiMAu"
      }
    },
    {
      "cell_type": "markdown",
      "source": [
        "#PQ26:-PQ26. Write a code to create a list, a tuple, and a dictionary, and print them all"
      ],
      "metadata": {
        "id": "bzA8eGrRi6l8"
      }
    },
    {
      "cell_type": "code",
      "source": [
        "# Creating a list\n",
        "my_list = [1, 2, 3, 4, 5]\n",
        "\n",
        "# Creating a tuple\n",
        "my_tuple = ('a', 'b', 'c')\n",
        "\n",
        "# Creating a dictionary\n",
        "my_dict = {\n",
        "    \"name\": \"Aditya\",\n",
        "    \"age\": 22\n",
        "}\n",
        "\n",
        "# Printing all\n",
        "print(\"List:\", my_list)\n",
        "print(\"Tuple:\", my_tuple)\n",
        "print(\"Dictionary:\", my_dict)\n"
      ],
      "metadata": {
        "colab": {
          "base_uri": "https://localhost:8080/"
        },
        "id": "XbTQlNNHi_F7",
        "outputId": "c7afb2c6-e914-42ff-c5c4-77dacfcb7584"
      },
      "execution_count": 27,
      "outputs": [
        {
          "output_type": "stream",
          "name": "stdout",
          "text": [
            "List: [1, 2, 3, 4, 5]\n",
            "Tuple: ('a', 'b', 'c')\n",
            "Dictionary: {'name': 'Aditya', 'age': 22}\n"
          ]
        }
      ]
    },
    {
      "cell_type": "markdown",
      "source": [
        "#PQ27:-PQ27. Create a list of 5 random numbers between 1 and 100, sort it in ascending order, and print the result"
      ],
      "metadata": {
        "id": "nkY2RZm2jBwO"
      }
    },
    {
      "cell_type": "code",
      "source": [
        "import random\n",
        "\n",
        "numbers = random.sample(range(1, 101), 5)\n",
        "numbers.sort()\n",
        "print(\"Sorted Random Numbers:\", numbers)\n"
      ],
      "metadata": {
        "colab": {
          "base_uri": "https://localhost:8080/"
        },
        "id": "3otVvNrUjJHE",
        "outputId": "07ec44a6-bafa-439f-8e08-02b0a2e81623"
      },
      "execution_count": 28,
      "outputs": [
        {
          "output_type": "stream",
          "name": "stdout",
          "text": [
            "Sorted Random Numbers: [33, 59, 61, 68, 74]\n"
          ]
        }
      ]
    },
    {
      "cell_type": "markdown",
      "source": [
        "# PQ28. Create a list with strings and print the element at the third index"
      ],
      "metadata": {
        "id": "4gZTpXXpjO4U"
      }
    },
    {
      "cell_type": "code",
      "source": [
        "words = [\"apple\", \"banana\", \"cherry\", \"date\", \"elderberry\"]\n",
        "print(\"Element at index 3:\", words[3])  # Output: date\n"
      ],
      "metadata": {
        "colab": {
          "base_uri": "https://localhost:8080/"
        },
        "id": "jCs8r26ajQi1",
        "outputId": "e90869ca-2a14-498b-c70d-22d78aac5f26"
      },
      "execution_count": 29,
      "outputs": [
        {
          "output_type": "stream",
          "name": "stdout",
          "text": [
            "Element at index 3: date\n"
          ]
        }
      ]
    },
    {
      "cell_type": "markdown",
      "source": [
        "#PQ29. Combine two dictionaries into one and print the result"
      ],
      "metadata": {
        "id": "ILD2h1sTjWD1"
      }
    },
    {
      "cell_type": "code",
      "source": [
        "dict1 = {\"name\": \"Aditya\", \"age\": 22}\n",
        "dict2 = {\"city\": \"Kolkata\", \"country\": \"India\"}\n",
        "\n",
        "combined = {**dict1, **dict2}\n",
        "print(\"Combined Dictionary:\", combined)\n"
      ],
      "metadata": {
        "colab": {
          "base_uri": "https://localhost:8080/"
        },
        "id": "3jrhxQZ6jY_F",
        "outputId": "040a59c4-6ed1-4459-a5ee-19b618343c57"
      },
      "execution_count": 30,
      "outputs": [
        {
          "output_type": "stream",
          "name": "stdout",
          "text": [
            "Combined Dictionary: {'name': 'Aditya', 'age': 22, 'city': 'Kolkata', 'country': 'India'}\n"
          ]
        }
      ]
    },
    {
      "cell_type": "markdown",
      "source": [
        "#PQ30. Convert a list of strings into a set\n"
      ],
      "metadata": {
        "id": "VNm76SQ4jcbk"
      }
    },
    {
      "cell_type": "code",
      "source": [
        "string_list = [\"apple\", \"banana\", \"apple\", \"cherry\"]\n",
        "string_set = set(string_list)\n",
        "print(\"Set:\", string_set)  # Output: {'apple', 'banana', 'cherry'} (order may vary)\n"
      ],
      "metadata": {
        "id": "vs3dIYLgjlzV"
      },
      "execution_count": null,
      "outputs": []
    }
  ]
}