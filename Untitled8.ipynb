{
  "nbformat": 4,
  "nbformat_minor": 0,
  "metadata": {
    "colab": {
      "provenance": []
    },
    "kernelspec": {
      "name": "python3",
      "display_name": "Python 3"
    },
    "language_info": {
      "name": "python"
    }
  },
  "cells": [
    {
      "cell_type": "markdown",
      "source": [
        "# Machine Learning Intro - **Assignment**"
      ],
      "metadata": {
        "id": "ERxnF34NqWH2"
      }
    },
    {
      "cell_type": "markdown",
      "source": [
        "# Q1: Explain the differences between AI, ML, Deep Learning (DL), and Data Science (DS).\n",
        "   - Artificial Intelligence (AI) is the broad field of making machines act intelligent; Machine Learning (ML) is a subset of AI that learns patterns from data; Deep Learning (DL) is a specialized subset of ML that uses multi-layer neural networks for tasks like vision and speech; Data Science (DS) is a multidisciplinary field that uses statistics, ML, and domain expertise to analyze and derive insights from structured and unstructured data."
      ],
      "metadata": {
        "id": "1Mn6KBxJoH-H"
      }
    },
    {
      "cell_type": "markdown",
      "source": [
        "# Q2: What are the types of machine learning? Describe each with one real-world example.\n",
        "  -  Supervised Learning – The model is trained on labeled data where both input and output are known, and it learns to predict outcomes for new data; example: predicting house prices based on features like size and location.\n",
        "\n",
        "     Unsupervised Learning – The model is trained on unlabeled data to find hidden patterns or groupings without predefined outputs; example: customer segmentation in marketing based on buying behavior.\n",
        "\n",
        "     Reinforcement Learning – The model learns by interacting with an environment and receiving feedback in the form of rewards or penalties to make better decisions; example: training robots or self-driving cars to navigate safely."
      ],
      "metadata": {
        "id": "YFt2dlvhoTbt"
      }
    },
    {
      "cell_type": "markdown",
      "source": [
        "# Q3: Define overfitting, underfitting, and the bias-variance tradeoff in machine learning.\n",
        "  -  Overfitting happens when a model learns training data too well, including noise, and fails on new data; Underfitting occurs when a model is too simple and cannot capture the patterns in data; the Bias-Variance Tradeoff is the balance between bias (error from overly simple models) and variance (error from overly complex models), where the goal is to minimize both for good generalization."
      ],
      "metadata": {
        "id": "uNZwXc4qotoQ"
      }
    },
    {
      "cell_type": "markdown",
      "source": [
        "# Q4: What are outliers in a dataset, and list three common techniques for handling them.\n",
        "  -  Outliers are data points that deviate significantly from other observations and can distort analysis; three common handling techniques are (1) Removing outliers using statistical methods (e.g., Z-score, IQR), (2) Transforming data (e.g., log transformation), (3) Capping or imputing outlier values (winsorization)."
      ],
      "metadata": {
        "id": "FpVfgVm-o6WO"
      }
    },
    {
      "cell_type": "markdown",
      "source": [
        "# Q5: Explain the process of handling missing values and mention one imputation technique for numerical and one for categorical data.\n",
        "  -   Handling missing values is crucial because they can reduce model accuracy and lead to biased results. The process starts with detecting missing values using methods like isnull() in Python. Then, we analyze whether to drop rows/columns with too many missing values or fill them using imputation. For numerical data, a common imputation method is replacing missing values with the mean or median of the column. For categorical data, the missing values can be filled with the mode (most frequent value). In advanced cases, techniques like KNN imputer or regression imputation are also used to preserve data patterns. Proper handling ensures the dataset remains consistent and reliable for training ML models."
      ],
      "metadata": {
        "id": "SNsCMofwpD9k"
      }
    },
    {
      "cell_type": "markdown",
      "source": [
        "# Q6: Write a Python program that creates a synthetic imbalanced dataset with make_classification() from sklearn.datasets and prints the class distribution."
      ],
      "metadata": {
        "id": "OurUiFs0pO70"
      }
    },
    {
      "cell_type": "code",
      "source": [
        "from sklearn.datasets import make_classification\n",
        "import numpy as np\n",
        "\n",
        "# create imbalanced dataset\n",
        "X, y = make_classification(n_samples=1000, n_features=5, n_classes=2,\n",
        "                           weights=[0.9, 0.1], random_state=42)\n",
        "\n",
        "# print class distribution\n",
        "unique, counts = np.unique(y, return_counts=True)\n",
        "print(\"Class distribution:\", dict(zip(unique, counts)))\n"
      ],
      "metadata": {
        "colab": {
          "base_uri": "https://localhost:8080/"
        },
        "id": "BihySgavpV4s",
        "outputId": "0498fdf6-83a9-47d0-e7ec-7d8655b59114"
      },
      "execution_count": null,
      "outputs": [
        {
          "output_type": "stream",
          "name": "stdout",
          "text": [
            "Class distribution: {np.int64(0): np.int64(895), np.int64(1): np.int64(105)}\n"
          ]
        }
      ]
    },
    {
      "cell_type": "markdown",
      "source": [
        "# Q7: Implement one-hot encoding using pandas for the following list of colors: ['Red', 'Green', 'Blue', 'Green', 'Red']. Print the resulting dataframe."
      ],
      "metadata": {
        "id": "uLFMZBShpa2O"
      }
    },
    {
      "cell_type": "code",
      "source": [
        "import pandas as pd\n",
        "\n",
        "# original list\n",
        "colors = ['Red', 'Green', 'Blue', 'Green', 'Red']\n",
        "\n",
        "# one-hot encoding\n",
        "df = pd.DataFrame(colors, columns=['Color'])\n",
        "one_hot = pd.get_dummies(df['Color'])\n",
        "\n",
        "# final dataframe\n",
        "result = pd.concat([df, one_hot], axis=1)\n",
        "print(result)\n"
      ],
      "metadata": {
        "colab": {
          "base_uri": "https://localhost:8080/"
        },
        "id": "RJBETAj-pgWn",
        "outputId": "4867c2d7-c60d-4d8a-eea3-eafdf45e89ce"
      },
      "execution_count": null,
      "outputs": [
        {
          "output_type": "stream",
          "name": "stdout",
          "text": [
            "   Color   Blue  Green    Red\n",
            "0    Red  False  False   True\n",
            "1  Green  False   True  False\n",
            "2   Blue   True  False  False\n",
            "3  Green  False   True  False\n",
            "4    Red  False  False   True\n"
          ]
        }
      ]
    },
    {
      "cell_type": "markdown",
      "source": [
        "# Q8: Write a Python script to generate 1000 samples from a normal distribution, introduce 50 random missing values, fill missing values with the column mean, and plot a histogram before and after imputation."
      ],
      "metadata": {
        "id": "6jeQ0CrepjyW"
      }
    },
    {
      "cell_type": "code",
      "source": [
        "import numpy as np\n",
        "import pandas as pd\n",
        "import matplotlib.pyplot as plt\n",
        "\n",
        "# Step 1: generate normal distribution data\n",
        "data = np.random.randn(1000)\n",
        "\n",
        "# Step 2: introduce 50 random missing values\n",
        "data[np.random.choice(1000, 50, replace=False)] = np.nan\n",
        "\n",
        "# Step 3: convert to dataframe\n",
        "df = pd.DataFrame(data, columns=['Values'])\n",
        "\n",
        "# Step 4: fill missing values with mean\n",
        "df['Imputed'] = df['Values'].fillna(df['Values'].mean())\n",
        "\n",
        "# Step 5: plot histograms\n",
        "plt.figure(figsize=(10,5))\n",
        "\n",
        "plt.subplot(1,2,1)\n",
        "plt.hist(df['Values'].dropna(), bins=30)\n",
        "plt.title(\"Before Imputation\")\n",
        "\n",
        "plt.subplot(1,2,2)\n",
        "plt.hist(df['Imputed'], bins=30)\n",
        "plt.title(\"After Imputation\")\n",
        "\n",
        "plt.show()\n"
      ],
      "metadata": {
        "colab": {
          "base_uri": "https://localhost:8080/",
          "height": 468
        },
        "id": "8kh6bVlYppd9",
        "outputId": "47635bb0-658f-4860-ebdc-3a98e44b497d"
      },
      "execution_count": null,
      "outputs": [
        {
          "output_type": "display_data",
          "data": {
            "text/plain": [
              "<Figure size 1000x500 with 2 Axes>"
            ],
            "image/png": "[encoded data removed]"
          },
          "metadata": {}
        }
      ]
    },
    {
      "cell_type": "markdown",
      "source": [
        "# Q9: Implement Min-Max scaling on the following list of numbers [2, 5, 10, 15, 20] using sklearn.preprocessing.MinMaxScaler. Print the scaled array."
      ],
      "metadata": {
        "id": "Cdq3SwNDpuof"
      }
    },
    {
      "cell_type": "code",
      "source": [
        "from sklearn.preprocessing import MinMaxScaler\n",
        "import numpy as np\n",
        "\n",
        "# original data\n",
        "data = np.array([[2], [5], [10], [15], [20]])\n",
        "\n",
        "# apply Min-Max scaling\n",
        "scaler = MinMaxScaler()\n",
        "scaled = scaler.fit_transform(data)\n",
        "\n",
        "print(\"Scaled Data:\\n\", scaled)\n"
      ],
      "metadata": {
        "colab": {
          "base_uri": "https://localhost:8080/"
        },
        "id": "X3XHJKvFp1ie",
        "outputId": "201d4f96-7532-4929-ef2b-9f5fcdc8e0bb"
      },
      "execution_count": null,
      "outputs": [
        {
          "output_type": "stream",
          "name": "stdout",
          "text": [
            "Scaled Data:\n",
            " [[0.        ]\n",
            " [0.16666667]\n",
            " [0.44444444]\n",
            " [0.72222222]\n",
            " [1.        ]]\n"
          ]
        }
      ]
    },
    {
      "cell_type": "markdown",
      "source": [
        "# Q10: You are working as a data scientist for a retail company. You receive a customer transaction dataset that contains missing ages, outliers in transaction amount, a highly imbalanced target (fraud vs. non-fraud), and categorical variables like payment method. Explain the step-by-step data preparation plan you’d follow before training a machine learning model.\n",
        "  - Handle Missing Values – Fill missing ages using mean/median for numerical values or predictive imputation.\n",
        "\n",
        "     Outlier Treatment – Detect outliers in transaction amounts using methods like IQR or Z-score, then cap or remove extreme values.\n",
        "\n",
        "     Imbalanced Target Handling – Use oversampling (SMOTE), undersampling, or class-weight adjustment to balance fraud vs. non-fraud classes.\n",
        "\n",
        "     Categorical Encoding – Apply one-hot encoding or label encoding for variables like payment method.\n",
        "\n",
        "     Feature Scaling – Normalize or standardize continuous variables for consistency.\n",
        "\n",
        "     Train-Test Split – Divide data into training and testing sets to ensure fair model evaluation.\n",
        "\n",
        "     👉 This systematic preprocessing ensures the dataset is clean, balanced, and properly formatted for building an accurate machine learning model."
      ],
      "metadata": {
        "id": "FYs_w6qJp4yF"
      }
    }
  ]
}