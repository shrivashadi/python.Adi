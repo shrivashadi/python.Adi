{
 "cells": [
  {
   "cell_type": "code",
   "execution_count": null,
   "id": "e5e95798-76e0-4282-8bc4-268cb6dac151",
   "metadata": {},
   "outputs": [],
   "source": [
    "#                           Python Assignment"
   ]
  },
  {
   "cell_type": "code",
   "execution_count": null,
   "id": "e1fe7eee-a4dd-4c7a-b67f-0c3ee9de2d12",
   "metadata": {},
   "outputs": [],
   "source": [
    "# Files, exceptional handling, logging and memory managment Question-"
   ]
  },
  {
   "cell_type": "code",
   "execution_count": null,
   "id": "8eae805d-6399-4144-bd9c-6e0381fd7936",
   "metadata": {},
   "outputs": [],
   "source": [
    "# Q1: What is the difference between interpreted and compiled languages?\n",
    "     - Interpreted languages execute code line by line using an interpreter, which makes debugging easier but slows down execution. Compiled languages, on the other hand, are first converted into machine code using a compiler, making them faster but harder to debug.\n",
    "       Python is an interpreted language, while C/C++ are compiled languages."
   ]
  },
  {
   "cell_type": "code",
   "execution_count": null,
   "id": "5b16d4f9-d872-4387-90c6-3d6a0ac6eb2a",
   "metadata": {},
   "outputs": [],
   "source": [
    "# Q2: What is exception handling in Python?\n",
    "     - Exception handling in Python is a mechanism to handle runtime errors gracefully without crashing the program. It uses blocks like try, except, finally, and else to catch and manage exceptions.\n",
    "       This ensures that the program can continue or fail safely with a proper message."
   ]
  },
  {
   "cell_type": "code",
   "execution_count": null,
   "id": "7b14f099-aa84-4c7b-9ef1-c091dd2d8db7",
   "metadata": {},
   "outputs": [],
   "source": [
    "# Q3: What is the purpose of the finally block in exception handling?\n",
    "     - The finally block in Python is used to define cleanup actions that must be executed, whether an exception occurs or not.\n",
    "       It is typically used to release resources like files or network connections, ensuring the program ends cleanly.\n"
   ]
  },
  {
   "cell_type": "code",
   "execution_count": null,
   "id": "ba5b5785-0885-4418-9db3-c47a3793e0e5",
   "metadata": {},
   "outputs": [],
   "source": [
    "# Q4: What is logging in Python?\n",
    "   - Logging in Python is the process of recording messages that describe events or errors during program execution.\n",
    "     The logging module is used to track the flow of a program, making it easier to debug and maintain code, especially in large applications."
   ]
  },
  {
   "cell_type": "code",
   "execution_count": null,
   "id": "e23eb1d0-be1d-4507-a8a4-1b650bcba22a",
   "metadata": {},
   "outputs": [],
   "source": [
    "# Q5: What is the significance of the __del__ method in Python?\n",
    "  - The __del__ method is a destructor in Python, automatically called when an object is about to be destroyed.\n",
    "    It is used to perform cleanup tasks like closing files or releasing memory before the object is deleted from memory.\n"
   ]
  },
  {
   "cell_type": "code",
   "execution_count": null,
   "id": "8428a30d-69b8-44cf-945e-227a549f4cab",
   "metadata": {},
   "outputs": [],
   "source": [
    "# Q6: What is the difference between import and from ... import in Python?\n",
    "     - The import statement loads the entire module, and functions or classes must be accessed with the module name (e.g., math.sqrt).\n",
    "       The from ... import statement imports specific components directly, allowing you to use them without the module prefix (e.g., from math import sqrt)."
   ]
  },
  {
   "cell_type": "code",
   "execution_count": null,
   "id": "629e106d-a480-44a6-84ce-35d3d98e492f",
   "metadata": {},
   "outputs": [],
   "source": [
    "# Q7: How can you handle multiple exceptions in Python?\n",
    "     - Multiple exceptions in Python can be handled by using multiple except blocks or a single block with a tuple of exceptions.\n",
    "       This allows the program to respond differently to various types of errors without crashing."
   ]
  },
  {
   "cell_type": "code",
   "execution_count": null,
   "id": "125356d6-ac6b-40c2-b1f3-cebe02624576",
   "metadata": {},
   "outputs": [],
   "source": [
    "#  Q8: What is the purpose of the with statement when handling files in Python?\n",
    "      - The with statement simplifies file handling by automatically managing file opening and closing.\n",
    "        It ensures the file is properly closed after its block is executed, even if an error occurs, which helps prevent memory leaks or file corruption."
   ]
  },
  {
   "cell_type": "code",
   "execution_count": null,
   "id": "b6842540-bf50-433e-8932-5ed422d588f3",
   "metadata": {},
   "outputs": [],
   "source": [
    "#  Q9: What is the difference between multithreading and multiprocessing?\n",
    "      - Multithreading runs multiple threads within the same process, sharing memory space, and is useful for I/O-bound tasks.\n",
    "        Multiprocessing runs multiple processes with separate memory, ideal for CPU-bound tasks as it bypasses Python's GIL (Global Interpreter Lock) for better performance.#"
   ]
  },
  {
   "cell_type": "code",
   "execution_count": null,
   "id": "aa5f734e-ccb3-4ded-b207-52f8e23e7ec8",
   "metadata": {},
   "outputs": [],
   "source": [
    "# Q10: What are the advantages of using logging in a program?\n",
    "      - Logging helps track events, errors, and the flow of a program without interrupting its execution.\n",
    "        It improves debugging, maintains historical records, and supports different severity levels like DEBUG, INFO, WARNING, ERROR, and CRITICAL for better monitoring and maintenance.#\n"
   ]
  },
  {
   "cell_type": "code",
   "execution_count": null,
   "id": "30dfa585-2e6b-45a3-82f1-bd4ceb78dd45",
   "metadata": {},
   "outputs": [],
   "source": [
    "# Q11: What is memory management in Python?\n",
    "      - Memory management in Python involves allocating and freeing memory automatically using a built-in garbage collector.\n",
    "        Python manages memory through reference counting and a cyclic garbage collector, ensuring efficient use of resources and preventing memory leaks.\n"
   ]
  },
  {
   "cell_type": "code",
   "execution_count": null,
   "id": "addd0af0-7cca-451c-9437-0058a8cc901e",
   "metadata": {},
   "outputs": [],
   "source": [
    "#  Q12: What are the basic steps involved in exception handling in Python?\n",
    "       - The basic steps in exception handling are:\n",
    "\n",
    "         try block: Code that might raise an exception is placed here.\n",
    "\n",
    "         except block: Handles the exception if it occurs.\n",
    "\n",
    "         else block (optional): Runs if no exception occurs.\n",
    "\n",
    "         finally block (optional): Executes no matter what, used for cleanup tasks.\n"
   ]
  },
  {
   "cell_type": "code",
   "execution_count": null,
   "id": "acf9d313-1e10-4789-9882-cfbceab8e507",
   "metadata": {},
   "outputs": [],
   "source": [
    "# Q13: Why is memory management important in Python?\n",
    "     - Memory management is important in Python to ensure efficient use of system resources and avoid memory leaks.\n",
    "       It helps in maintaining performance, preventing crashes, and allowing applications to scale without consuming excessive memory."
   ]
  },
  {
   "cell_type": "code",
   "execution_count": null,
   "id": "6c25aee8-315b-497e-94e9-98a8fc5ab503",
   "metadata": {},
   "outputs": [],
   "source": [
    "# Q14: What is the role of try and except in exception handling?\n",
    "      - The try block contains code that might raise an exception, while the except block defines how to handle specific errors.\n",
    "        This structure prevents the program from crashing and allows it to respond gracefully to unexpected situations."
   ]
  },
  {
   "cell_type": "code",
   "execution_count": null,
   "id": "25393cca-6a37-4a7b-8de0-c5e6f0aa0263",
   "metadata": {},
   "outputs": [],
   "source": [
    "# Q15: How does Python’s garbage collection system work?\n",
    "      - hon’s garbage collection system automatically frees up memory by deleting objects that are no longer in use.\n",
    "        It uses reference counting and a cyclic garbage collector to detect and clean up unreachable objects, ensuring efficient memory usage."
   ]
  },
  {
   "cell_type": "code",
   "execution_count": null,
   "id": "16c40b93-dc0d-42e8-80ea-cee553d42c01",
   "metadata": {},
   "outputs": [],
   "source": [
    "# Q16: What is the purpose of the else block in exception handling?\n",
    "      - The else block runs only if no exception occurs in the try block.\n",
    "        It is used to place code that should execute only when the try block succeeds, helping separate normal logic from error-handling code.\n"
   ]
  },
  {
   "cell_type": "code",
   "execution_count": null,
   "id": "a2173693-2bc6-4002-a7ce-640f390130f9",
   "metadata": {},
   "outputs": [],
   "source": [
    "# Q17: What are the common logging levels in Python?\n",
    "      - Python provides five standard logging levels:\n",
    "\n",
    "        DEBUG (detailed info for debugging)\n",
    "\n",
    "        INFO (general events)\n",
    "\n",
    "        WARNING (something unexpected)\n",
    "\n",
    "        ERROR (serious issue)\n",
    "\n",
    "        CRITICAL (very severe error)"
   ]
  },
  {
   "cell_type": "code",
   "execution_count": null,
   "id": "a7579558-5f61-40d2-981e-f9a53b77d8a2",
   "metadata": {},
   "outputs": [],
   "source": [
    "#  Q18: What is the difference between os.fork() and multiprocessing in Python?\n",
    "       - os.fork() is used in Unix systems to create a child process by duplicating the current process.\n",
    "\n",
    "         multiprocessing is a Python module that works cross-platform and provides a higher-level API to create and manage multiple processes easily."
   ]
  },
  {
   "cell_type": "code",
   "execution_count": null,
   "id": "558cce4c-02f5-46e3-b2d0-fec42ad307f5",
   "metadata": {},
   "outputs": [],
   "source": [
    "#  Q19: What is the importance of closing a file in Python?\n",
    "       - Closing a file frees system resources, ensures all data is written (flushed) to the file, and prevents file corruption.\n",
    "         Using file.close() or the with statement handles this properly."
   ]
  },
  {
   "cell_type": "code",
   "execution_count": null,
   "id": "dcc51d53-5691-4fd1-aa2c-48d4e408f0f9",
   "metadata": {},
   "outputs": [],
   "source": [
    "#  Q20: What is the difference between file.read() and file.readline() in Python?\n",
    "       - file.read() reads the entire file content as one string.\n",
    "\n",
    "         file.readline() reads only one line at a time, making it memory-efficient for large files."
   ]
  },
  {
   "cell_type": "code",
   "execution_count": null,
   "id": "0fec2eff-b188-44ca-8c36-21c832fdb163",
   "metadata": {},
   "outputs": [],
   "source": [
    "#  Q21: What is the logging module in Python used for?\n",
    "       - The logging module is used to record messages for tracking events, debugging, and error reporting during program execution.\n",
    "         It supports different log levels and output formats."
   ]
  },
  {
   "cell_type": "code",
   "execution_count": null,
   "id": "70eeb47c-d5ca-443a-a9b9-2dfd46437218",
   "metadata": {},
   "outputs": [],
   "source": [
    "#  Q22: What is the os module in Python used for in file handling?\n",
    "       - The os module provides functions to interact with the operating system, such as file creation, \n",
    "         deletion, renaming, path checking, and directory management.\n",
    "\n"
   ]
  },
  {
   "cell_type": "code",
   "execution_count": null,
   "id": "6189cfd9-66ac-4be7-b24c-d8fdf7cbc6ce",
   "metadata": {},
   "outputs": [],
   "source": [
    "#  Q23: What are the challenges associated with memory management in Python?\n",
    "       - Challenges include:\n",
    "\n",
    "         Circular references not immediately cleaned by reference counting\n",
    "\n",
    "         Memory leaks due to unused but still referenced objects\n",
    "\n",
    "         Manual resource cleanup is sometimes needed despite automatic management"
   ]
  },
  {
   "cell_type": "code",
   "execution_count": null,
   "id": "4c028657-3dd0-48eb-996b-900907d96dc8",
   "metadata": {},
   "outputs": [],
   "source": [
    "# Q24: How do you raise an exception manually in Python?\n",
    "      - Answer:\n",
    "        You can raise an exception using the raise keyword followed by the exception type.\n",
    "        Example:-\n",
    "        raise ValueError(\"Invalid input\")\n"
   ]
  },
  {
   "cell_type": "code",
   "execution_count": null,
   "id": "4171c0c9-00a7-49c8-a490-284f0d1b089b",
   "metadata": {},
   "outputs": [],
   "source": [
    "# Q25: Why is it important to use multithreading in certain applications?\n",
    "      - Multithreading improves performance in I/O-bound tasks by allowing multiple operations to run concurrently,\n",
    "        like file access, network requests, or user interface responsiveness.\n",
    "\n"
   ]
  },
  {
   "cell_type": "code",
   "execution_count": null,
   "id": "5e141db4-181b-412a-8436-e7444a379a69",
   "metadata": {},
   "outputs": [],
   "source": [
    "# Practile Question:-"
   ]
  },
  {
   "cell_type": "code",
   "execution_count": null,
   "id": "64b5f7ba-046b-40bb-8e2c-5ad09370b61a",
   "metadata": {},
   "outputs": [],
   "source": []
  }
 ],
 "metadata": {
  "kernelspec": {
   "display_name": "Python 3 (ipykernel)",
   "language": "python",
   "name": "python3"
  },
  "language_info": {
   "codemirror_mode": {
    "name": "ipython",
    "version": 3
   },
   "file_extension": ".py",
   "mimetype": "text/x-python",
   "name": "python",
   "nbconvert_exporter": "python",
   "pygments_lexer": "ipython3",
   "version": "3.13.5"
  }
 },
 "nbformat": 4,
 "nbformat_minor": 5
}
